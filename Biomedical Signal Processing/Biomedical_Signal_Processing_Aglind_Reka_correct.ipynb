{
 "cells": [
  {
   "cell_type": "markdown",
   "id": "4aa16d2d",
   "metadata": {
    "hide_input": false
   },
   "source": [
    "# Preprocessing the data"
   ]
  },
  {
   "cell_type": "markdown",
   "id": "3eb0d063",
   "metadata": {
    "hide_input": true
   },
   "source": [
    "## Import the modules"
   ]
  },
  {
   "cell_type": "code",
   "execution_count": 1,
   "id": "a81ab80d",
   "metadata": {
    "ExecuteTime": {
     "end_time": "2024-02-02T22:01:36.615736Z",
     "start_time": "2024-02-02T22:01:34.090576Z"
    }
   },
   "outputs": [
    {
     "name": "stdout",
     "output_type": "stream",
     "text": [
      "WARNING:tensorflow:From C:\\Users\\Raffaele\\anaconda3\\Lib\\site-packages\\keras\\src\\losses.py:2976: The name tf.losses.sparse_softmax_cross_entropy is deprecated. Please use tf.compat.v1.losses.sparse_softmax_cross_entropy instead.\n",
      "\n"
     ]
    }
   ],
   "source": [
    "import numpy as np\n",
    "import pandas as pd\n",
    "import scipy.stats as stats \n",
    "import matplotlib.pylab as plt\n",
    "import scipy.io\n",
    "import tensorflow as tf\n",
    "from sklearn.model_selection import train_test_split, cross_val_score\n",
    "from sklearn.svm import SVC\n",
    "from sklearn.ensemble import RandomForestClassifier\n",
    "from sklearn.metrics import classification_report, accuracy_score, ConfusionMatrixDisplay\n",
    "from sklearn.linear_model import LogisticRegression\n",
    "from sklearn.tree import DecisionTreeClassifier\n",
    "from sklearn.naive_bayes import GaussianNB\n",
    "from sklearn.ensemble import AdaBoostClassifier\n",
    "from sklearn.ensemble import GradientBoostingClassifier\n",
    "from xgboost import XGBClassifier\n",
    "import tensorflow as tf\n",
    "from sklearn.preprocessing import OneHotEncoder\n",
    "from sklearn.metrics import accuracy_score, classification_report\n",
    "from sklearn.preprocessing import OneHotEncoder\n",
    "from sklearn.pipeline import Pipeline\n",
    "from sklearn.preprocessing import StandardScaler\n",
    "from tensorflow.keras.models import Sequential\n",
    "from tensorflow.keras.layers import Dense\n",
    "from tensorflow.keras.optimizers import Adam\n",
    "from sklearn.model_selection import train_test_split\n",
    "import scipy as sp\n",
    "import matplotlib.pyplot as plt\n",
    "from sklearn.model_selection import GridSearchCV"
   ]
  },
  {
   "cell_type": "markdown",
   "id": "58a7ee6f",
   "metadata": {},
   "source": [
    "## Load the data"
   ]
  },
  {
   "cell_type": "code",
   "execution_count": 2,
   "id": "e4810500",
   "metadata": {
    "ExecuteTime": {
     "end_time": "2024-02-02T22:01:37.728455Z",
     "start_time": "2024-02-02T22:01:36.708871Z"
    }
   },
   "outputs": [
    {
     "name": "stdout",
     "output_type": "stream",
     "text": [
      "(12, 15000, 75) (12, 15000, 75)\n",
      "(32, 1) (31, 1)\n"
     ]
    },
    {
     "data": {
      "text/plain": [
       "[<matplotlib.lines.Line2D at 0x1d4637975d0>]"
      ]
     },
     "execution_count": 2,
     "metadata": {},
     "output_type": "execute_result"
    },
    {
     "data": {
      "image/png": "[encoded data removed]",
      "text/plain": [
       "<Figure size 640x480 with 1 Axes>"
      ]
     },
     "metadata": {},
     "output_type": "display_data"
    }
   ],
   "source": [
    "# load mat file\n",
    "Xva = scipy.io.loadmat(\"Xva.mat\")\n",
    "Xa = scipy.io.loadmat(\"Xa.mat\")\n",
    "Rva = Xva['Xva']\n",
    "Ra = Xa['Xa']\n",
    "\n",
    "# load mat file\n",
    "recur = scipy.io.loadmat(\"indrecur.mat\")\n",
    "no_recur = scipy.io.loadmat(\"indnonrecur.mat\")\n",
    "recur = recur['indrecur']\n",
    "no_recur = no_recur['indnonrecur']\n",
    "\n",
    "\n",
    "print(Ra.shape, Rva.shape)\n",
    "print(recur.shape, no_recur.shape)\n",
    "plt.plot(Ra[1,:,1])"
   ]
  },
  {
   "cell_type": "markdown",
   "id": "4b579d31",
   "metadata": {},
   "source": [
    "--------------------------------------------------------------------------------------------------------------------------------\n",
    "## Preprocessing of the data\n",
    "--------------------------------------------------------------------------------------------------------------------------------\n",
    "#### Feature extraction part is done with the collaboration of my colleagues (Hyelim Lee and Anjana Batt)\n",
    "--------------------------------------------------------------------------------------------------------------------------------"
   ]
  },
  {
   "cell_type": "code",
   "execution_count": 3,
   "id": "c30cf948",
   "metadata": {
    "ExecuteTime": {
     "end_time": "2024-02-02T22:01:37.734761Z",
     "start_time": "2024-02-02T22:01:37.731938Z"
    }
   },
   "outputs": [
    {
     "name": "stdout",
     "output_type": "stream",
     "text": [
      "(6, 15000, 75)\n"
     ]
    }
   ],
   "source": [
    "# convert data to list \n",
    "recur = recur.flatten().tolist() \n",
    "no_recur = no_recur.flatten().tolist()\n",
    "\n",
    "# The index will shift to -1, like in matlab starts from 1 and in python starts from 0.\n",
    "# We need to shift to \"x-1\".\n",
    "recur = [x - 1 for x in recur] \n",
    "no_recur = [x - 1 for x in no_recur]\n",
    "\n",
    "# Selecting V1 to V6 leads\n",
    "Ra = Ra[6:12, :, :]\n",
    "Rva = Rva[6:12, :, :]\n",
    "print(Ra.shape)"
   ]
  },
  {
   "cell_type": "code",
   "execution_count": 4,
   "id": "5910a6ac",
   "metadata": {
    "ExecuteTime": {
     "end_time": "2024-02-02T22:01:37.739585Z",
     "start_time": "2024-02-02T22:01:37.735631Z"
    }
   },
   "outputs": [],
   "source": [
    "# Reconstruct data for feature extraction\n",
    "def convert_data(X):\n",
    "    signallist = ['v1','v2','v3','v4','v5','v6']\n",
    "    formatted_signals = []\n",
    "    converted_data = {}\n",
    "    # Iteration through every segnal\n",
    "    for i, signal in enumerate(signallist):\n",
    "        data = X[i,:,:]\n",
    "        re_data = data.T\n",
    "        # Iterate through each patient number\n",
    "        for patient_num in range(0, X.shape[2]):\n",
    "            # Format the signal name with the patient number and append to the list\n",
    "            data_pat = re_data[patient_num,:]\n",
    "            signal_pat = f\"{signal}_{patient_num}\"\n",
    "            converted_data[signal_pat] = data_pat\n",
    "    return converted_data\n"
   ]
  },
  {
   "cell_type": "code",
   "execution_count": 5,
   "id": "a89f9bd7",
   "metadata": {
    "ExecuteTime": {
     "end_time": "2024-02-02T22:01:37.743552Z",
     "start_time": "2024-02-02T22:01:37.740897Z"
    }
   },
   "outputs": [],
   "source": [
    "#Converting data in dictionary format\n",
    "converted_Ra = convert_data(Ra)\n",
    "converted_Rva = convert_data(Rva)"
   ]
  },
  {
   "cell_type": "code",
   "execution_count": 6,
   "id": "b4c3e9f6",
   "metadata": {},
   "outputs": [
    {
     "data": {
      "text/plain": [
       "{'v1_0': array([-0.01158859, -0.01078397, -0.00596672, ..., -0.01370395,\n",
       "        -0.01244296, -0.01133642]),\n",
       " 'v1_1': array([0.01712211, 0.0405    , 0.04540617, ..., 0.03514144, 0.03129789,\n",
       "        0.02106919]),\n",
       " 'v1_2': array([ 0.00130679,  0.00682618,  0.01281056, ...,  0.01073962,\n",
       "         0.00820366, -0.00205856]),\n",
       " 'v1_3': array([-0.00789068, -0.00749467,  0.00225202, ...,  0.00312826,\n",
       "         0.00531946, -0.00774204]),\n",
       " 'v1_4': array([ 0.00698672,  0.0101801 ,  0.00729624, ..., -0.03078683,\n",
       "        -0.0325078 , -0.03329165]),\n",
       " 'v1_5': array([ 0.0057983 ,  0.02117538,  0.02093791, ..., -0.00560035,\n",
       "        -0.00123211,  0.00675514]),\n",
       " 'v1_6': array([-0.03597142, -0.024653  ,  0.00080743, ..., -0.20849605,\n",
       "        -0.23543061, -0.21360342]),\n",
       " 'v1_7': array([ 0.01159022,  0.01844159,  0.01637054, ..., -0.03951385,\n",
       "        -0.03681079, -0.03024703]),\n",
       " 'v1_8': array([ 0.00198205, -0.00264435, -0.00244647, ..., -0.00174946,\n",
       "         0.00046746, -0.00194855]),\n",
       " 'v1_9': array([ 0.01280341,  0.02809437,  0.02415876, ...,  0.00591309,\n",
       "         0.0084157 , -0.00482748]),\n",
       " 'v1_10': array([-0.00492776, -0.02889126, -0.03858992, ..., -0.00269295,\n",
       "        -0.00456656, -0.00229756]),\n",
       " 'v1_11': array([-0.00337494, -0.0079746 , -0.00514439, ..., -0.00521456,\n",
       "        -0.00881406, -0.00430024]),\n",
       " 'v1_12': array([-0.00138905,  0.03423638,  0.08293359, ..., -0.0177613 ,\n",
       "        -0.00927353, -0.01047864]),\n",
       " 'v1_13': array([-0.00577181, -0.00706147, -0.00041607, ...,  0.00244397,\n",
       "         0.00326461,  0.0117678 ]),\n",
       " 'v1_14': array([-0.00163826,  0.00063392,  0.00059892, ...,  0.00430223,\n",
       "         0.00432296,  0.00350013]),\n",
       " 'v1_15': array([-0.00391653, -0.00464176, -0.00303738, ..., -0.00169581,\n",
       "        -0.00212323, -0.00303355]),\n",
       " 'v1_16': array([-0.00251319, -0.00506511, -0.00600789, ...,  0.01301457,\n",
       "         0.01616064,  0.01896469]),\n",
       " 'v1_17': array([-0.00899552, -0.01475539, -0.01237418, ...,  0.01552028,\n",
       "         0.00736918,  0.00331548]),\n",
       " 'v1_18': array([ 0.00243445, -0.00153818, -0.01227275, ..., -0.00078527,\n",
       "        -0.00262432, -0.00329296]),\n",
       " 'v1_19': array([0.03167448, 0.04341567, 0.04675178, ..., 0.01291049, 0.01160708,\n",
       "        0.00737943]),\n",
       " 'v1_20': array([-0.00177111, -0.00016294,  0.00457282, ...,  0.0404728 ,\n",
       "         0.04946516,  0.0537754 ]),\n",
       " 'v1_21': array([ 0.02035878,  0.03474764,  0.03406113, ..., -0.04210415,\n",
       "        -0.03973535, -0.03513713]),\n",
       " 'v1_22': array([-0.01007324, -0.0139725 , -0.01185816, ..., -0.01572992,\n",
       "        -0.01530433, -0.01740531]),\n",
       " 'v1_23': array([-0.00613833, -0.02188402, -0.02666399, ..., -0.05600293,\n",
       "        -0.05157602, -0.05025774]),\n",
       " 'v1_24': array([-0.01107378, -0.02738907, -0.03030052, ..., -0.02961832,\n",
       "        -0.01924426, -0.00645897]),\n",
       " 'v1_25': array([ 0.01289337,  0.02151615,  0.02077939, ..., -0.00509105,\n",
       "        -0.00448917, -0.0094375 ]),\n",
       " 'v1_26': array([ 0.00724861, -0.00361265, -0.01160655, ...,  0.01573098,\n",
       "         0.01414783,  0.01243495]),\n",
       " 'v1_27': array([-0.01464538, -0.03127905, -0.02521475, ...,  0.00355324,\n",
       "         0.01632581,  0.01846735]),\n",
       " 'v1_28': array([-0.00733352, -0.01250076, -0.01004597, ...,  0.00894695,\n",
       "         0.00753635,  0.0082455 ]),\n",
       " 'v1_29': array([ 0.00526256,  0.0108069 ,  0.01617365, ..., -0.03312193,\n",
       "        -0.0211645 , -0.01381975]),\n",
       " 'v1_30': array([0.01177975, 0.02695139, 0.02593819, ..., 0.02977007, 0.02911904,\n",
       "        0.02664359]),\n",
       " 'v1_31': array([0.00078721, 0.00388106, 0.00912025, ..., 0.02462023, 0.03099125,\n",
       "        0.03282742]),\n",
       " 'v1_32': array([0.00832419, 0.00953927, 0.00408444, ..., 0.01611657, 0.01750146,\n",
       "        0.0173169 ]),\n",
       " 'v1_33': array([-0.01634629, -0.02394023, -0.01571624, ..., -0.0130611 ,\n",
       "        -0.0140341 , -0.01628704]),\n",
       " 'v1_34': array([-0.00941134, -0.01322431, -0.00835717, ...,  0.02347354,\n",
       "         0.02915787,  0.03407467]),\n",
       " 'v1_35': array([-0.00659648,  0.0060672 ,  0.02522833, ..., -0.0035455 ,\n",
       "        -0.0076619 , -0.01535345]),\n",
       " 'v1_36': array([-0.01064265, -0.01223132, -0.01199312, ..., -0.00699319,\n",
       "        -0.02275182, -0.03202348]),\n",
       " 'v1_37': array([0.02015742, 0.04417472, 0.0568119 , ..., 0.02236459, 0.01373308,\n",
       "        0.00489944]),\n",
       " 'v1_38': array([-0.00202112,  0.00076654,  0.00469533, ...,  0.00945467,\n",
       "         0.01317825,  0.00787605]),\n",
       " 'v1_39': array([0.02165369, 0.04999273, 0.04513186, ..., 0.01620161, 0.01625204,\n",
       "        0.01635728]),\n",
       " 'v1_40': array([-0.00783442, -0.01258662, -0.01001968, ...,  0.00863009,\n",
       "         0.01036979,  0.00920673]),\n",
       " 'v1_41': array([0.00424987, 0.00441955, 0.00050438, ..., 0.02228923, 0.02499419,\n",
       "        0.03219092]),\n",
       " 'v1_42': array([-0.00172797, -0.00104823, -0.00139178, ..., -0.00634763,\n",
       "        -0.00668591, -0.00820351]),\n",
       " 'v1_43': array([-0.01466662, -0.02704699, -0.02804702, ..., -0.05621433,\n",
       "        -0.03871353, -0.02285155]),\n",
       " 'v1_44': array([-0.0037141 ,  0.00486607,  0.01213232, ...,  0.01525508,\n",
       "         0.0193881 ,  0.01353334]),\n",
       " 'v1_45': array([-0.00289648, -0.00812253, -0.01189233, ...,  0.00193815,\n",
       "        -0.00098164, -0.00330335]),\n",
       " 'v1_46': array([-0.01327991, -0.02523176, -0.02001188, ...,  0.00086792,\n",
       "         0.00229747, -0.000938  ]),\n",
       " 'v1_47': array([-0.00435007, -0.00448823,  0.00330056, ..., -0.00646575,\n",
       "        -0.01157212, -0.01528533]),\n",
       " 'v1_48': array([ 0.01185075,  0.01582714,  0.01953325, ..., -0.00944906,\n",
       "         0.00135844,  0.01124165]),\n",
       " 'v1_49': array([ 0.00853529,  0.0097891 ,  0.00489802, ..., -0.01359524,\n",
       "        -0.00764205, -0.00164918]),\n",
       " 'v1_50': array([-0.01093319, -0.02871448, -0.02416275, ..., -0.02018212,\n",
       "        -0.0228587 , -0.02477626]),\n",
       " 'v1_51': array([ 0.00027337,  0.00051144, -0.00080333, ...,  0.0001212 ,\n",
       "        -0.00143012, -0.00453048]),\n",
       " 'v1_52': array([-0.0142031 , -0.01984372, -0.01738588, ...,  0.00706591,\n",
       "         0.00330617,  0.00228882]),\n",
       " 'v1_53': array([ 0.01176919,  0.01635228,  0.01930837, ..., -0.02011603,\n",
       "        -0.02300612, -0.01860806]),\n",
       " 'v1_54': array([-0.01171496, -0.01276564, -0.00854697, ...,  0.0165131 ,\n",
       "         0.01813163,  0.02056183]),\n",
       " 'v1_55': array([ 0.00317428,  0.01507097,  0.02409821, ..., -0.05987024,\n",
       "        -0.05026051, -0.03919128]),\n",
       " 'v1_56': array([-0.01973241, -0.08102942, -0.06573704, ...,  0.0086509 ,\n",
       "         0.01531591,  0.01592027]),\n",
       " 'v1_57': array([0.01192979, 0.04975446, 0.06562038, ..., 0.00315339, 0.0048489 ,\n",
       "        0.0060724 ]),\n",
       " 'v1_58': array([-0.00179332, -0.00190904, -0.00061066, ..., -0.00381489,\n",
       "        -0.00189759, -0.00118997]),\n",
       " 'v1_59': array([ 0.00799214,  0.0086397 ,  0.00825928, ..., -0.0032899 ,\n",
       "        -0.00250416, -0.00227439]),\n",
       " 'v1_60': array([-0.006574  , -0.00848201,  0.00503967, ..., -0.00797356,\n",
       "        -0.00470791, -0.00172255]),\n",
       " 'v1_61': array([-0.00288821, -0.00735378, -0.00802266, ...,  0.00116799,\n",
       "         0.00152753,  0.00388549]),\n",
       " 'v1_62': array([ 0.00902283,  0.01925972,  0.01876113, ..., -0.01528533,\n",
       "        -0.00809649,  0.00053313]),\n",
       " 'v1_63': array([ 0.00364935,  0.00641534,  0.00922073, ..., -0.00012485,\n",
       "        -0.00200682, -0.00300071]),\n",
       " 'v1_64': array([-0.00255152, -0.0037116 , -0.00121344, ...,  0.00435572,\n",
       "         0.00751705,  0.01270936]),\n",
       " 'v1_65': array([0.00294899, 0.00724721, 0.00911286, ..., 0.0192904 , 0.01975962,\n",
       "        0.02059517]),\n",
       " 'v1_66': array([-0.00138896,  0.00324067,  0.00234359, ..., -0.03728564,\n",
       "        -0.03074618, -0.0218251 ]),\n",
       " 'v1_67': array([-0.00339472, -0.00057493,  0.0012642 , ...,  0.00998642,\n",
       "         0.00833346,  0.00863825]),\n",
       " 'v1_68': array([-0.00606422, -0.0107738 , -0.00712101, ...,  0.00459269,\n",
       "        -0.00325959, -0.00195675]),\n",
       " 'v1_69': array([ 6.36169829e-03,  4.03924971e-03,  1.59523670e-03, ...,\n",
       "        -4.03598441e-03, -6.16834422e-05,  2.02693115e-03]),\n",
       " 'v1_70': array([-0.00379411, -0.00555768,  0.0005552 , ..., -0.01012091,\n",
       "        -0.01317011, -0.01671209]),\n",
       " 'v1_71': array([-0.00329057, -0.00701482, -0.0094742 , ..., -0.00043483,\n",
       "        -0.00683581, -0.01142664]),\n",
       " 'v1_72': array([-0.00496505, -0.00477944, -0.00150148, ..., -0.00662888,\n",
       "        -0.01223425, -0.01350386]),\n",
       " 'v1_73': array([ 0.00076387,  0.00070222, -0.00075847, ...,  0.00626822,\n",
       "         0.01017908,  0.01348478]),\n",
       " 'v1_74': array([ 0.00835839,  0.00938878,  0.00451805, ...,  0.00308468,\n",
       "        -0.00102996, -0.00441135]),\n",
       " 'v2_0': array([-0.02254682, -0.0295567 , -0.02448667, ..., -0.020711  ,\n",
       "        -0.01924629, -0.01324986]),\n",
       " 'v2_1': array([-0.00318704, -0.00483695, -0.01561605, ...,  0.00384174,\n",
       "        -0.00585696, -0.01708931]),\n",
       " 'v2_2': array([-0.00367669, -0.00176179,  0.00358104, ...,  0.02848388,\n",
       "         0.02649093,  0.01902537]),\n",
       " 'v2_3': array([-0.0036512 , -0.00811076, -0.00547732, ...,  0.0038224 ,\n",
       "         0.0032071 , -0.00943223]),\n",
       " 'v2_4': array([-0.01071865, -0.01069766, -0.00533489, ...,  0.03030082,\n",
       "         0.02737284,  0.02115896]),\n",
       " 'v2_5': array([0.00681543, 0.02340843, 0.02252911, ..., 0.00147925, 0.00578859,\n",
       "        0.01384582]),\n",
       " 'v2_6': array([ 0.01249044,  0.01990789,  0.01559674, ..., -0.00164225,\n",
       "        -0.00787735,  0.0001127 ]),\n",
       " 'v2_7': array([ 0.00693777,  0.01011666,  0.00877962, ..., -0.05033807,\n",
       "        -0.04799841, -0.03734964]),\n",
       " 'v2_8': array([-0.00040227, -0.00243335,  0.00223991, ..., -0.00889275,\n",
       "        -0.01113531, -0.0145605 ]),\n",
       " 'v2_9': array([-0.00326254,  0.00289248,  0.00075   , ...,  0.01085627,\n",
       "         0.01631562,  0.01249668]),\n",
       " 'v2_10': array([ 0.0014241 , -0.00248352, -0.00704617, ..., -0.0014048 ,\n",
       "        -0.00295888,  0.00012599]),\n",
       " 'v2_11': array([0.00176002, 0.00204278, 0.00101367, ..., 0.00422961, 0.0039955 ,\n",
       "        0.00403797]),\n",
       " 'v2_12': array([ 0.00437341, -0.00048895, -0.00873173, ..., -0.00960827,\n",
       "        -0.01266101, -0.01484688]),\n",
       " 'v2_13': array([-0.00714408, -0.00869835, -0.00439787, ..., -0.01730826,\n",
       "        -0.01606348, -0.00527555]),\n",
       " 'v2_14': array([ 0.00416131,  0.00339589, -0.0017322 , ..., -0.00315049,\n",
       "        -0.00652576, -0.00486278]),\n",
       " 'v2_15': array([-0.00583882, -0.01310704, -0.01554767, ..., -0.00456166,\n",
       "        -0.00828393, -0.01038496]),\n",
       " 'v2_16': array([-0.00280582, -0.01108988, -0.01704554, ..., -0.00489493,\n",
       "         0.00123046,  0.0083634 ]),\n",
       " 'v2_17': array([-0.00217297, -0.00651507, -0.00981133, ..., -0.0148472 ,\n",
       "        -0.02235202, -0.03353581]),\n",
       " 'v2_18': array([ 0.00188114,  0.01027105,  0.01414813, ..., -0.00517997,\n",
       "        -0.00194242, -0.00059705]),\n",
       " 'v2_19': array([ 0.02312172,  0.03502399,  0.03898924, ..., -0.00688049,\n",
       "        -0.00529971, -0.00306267]),\n",
       " 'v2_20': array([-0.00496028, -0.0089414 , -0.00792772, ...,  0.0205636 ,\n",
       "         0.02352345,  0.0260132 ]),\n",
       " 'v2_21': array([ 0.01943714,  0.03437459,  0.03312269, ..., -0.02925057,\n",
       "        -0.03001536, -0.02836395]),\n",
       " 'v2_22': array([-0.01237909, -0.01377939, -0.00824891, ...,  0.0010388 ,\n",
       "        -0.00039329, -0.00226705]),\n",
       " 'v2_23': array([ 0.00864695, -0.00279285, -0.01659559, ..., -0.01843291,\n",
       "        -0.01671972, -0.01763245]),\n",
       " 'v2_24': array([0.00420552, 0.00753243, 0.01152091, ..., 0.03680498, 0.03399549,\n",
       "        0.03049517]),\n",
       " 'v2_25': array([ 0.01753466,  0.02326383,  0.01632906, ..., -0.00117484,\n",
       "        -0.00011667, -0.00563743]),\n",
       " 'v2_26': array([ 0.00509137, -0.00355087, -0.00899898, ...,  0.0080918 ,\n",
       "         0.00510264,  0.0015594 ]),\n",
       " 'v2_27': array([-0.01148016, -0.02683358, -0.02057656, ...,  0.00419929,\n",
       "         0.01690763,  0.01847085]),\n",
       " 'v2_28': array([-0.00501774, -0.0102237 , -0.00926932, ...,  0.00336609,\n",
       "         0.00329751,  0.00773368]),\n",
       " 'v2_29': array([-0.00100672, -0.00063646,  0.01377971, ..., -0.03229516,\n",
       "        -0.02750236, -0.02165194]),\n",
       " 'v2_30': array([0.00748561, 0.01849344, 0.01672703, ..., 0.01591882, 0.01798745,\n",
       "        0.0196195 ]),\n",
       " 'v2_31': array([-0.00174015, -0.00042247,  0.00423335, ...,  0.0311518 ,\n",
       "         0.03330252,  0.03170528]),\n",
       " 'v2_32': array([-0.10623437, -0.20461558, -0.23730718, ..., -0.0628618 ,\n",
       "        -0.05335068, -0.02355481]),\n",
       " 'v2_33': array([-0.01651794, -0.01593751, -0.00133457, ...,  0.00322702,\n",
       "         0.00185215,  0.00112672]),\n",
       " 'v2_34': array([-0.06524572, -0.09143326, -0.07935386, ...,  0.03428278,\n",
       "         0.03760614,  0.03807761]),\n",
       " 'v2_35': array([ 0.00215956,  0.01929442,  0.03686587, ..., -0.00557411,\n",
       "        -0.00668744, -0.00861519]),\n",
       " 'v2_36': array([-0.01206318, -0.01828677, -0.01469615, ...,  0.02185419,\n",
       "         0.00629341, -0.00592762]),\n",
       " 'v2_37': array([ 0.02911321,  0.02759596,  0.01631389, ..., -0.00398764,\n",
       "        -0.00128539,  0.00187434]),\n",
       " 'v2_38': array([-0.02176472, -0.05665447, -0.05527341, ...,  0.01004674,\n",
       "         0.01426043,  0.01327031]),\n",
       " 'v2_39': array([0.01300686, 0.03002658, 0.02335918, ..., 0.00846347, 0.00758948,\n",
       "        0.00502482]),\n",
       " 'v2_40': array([-0.00894656, -0.01733884, -0.01955448, ..., -0.00882389,\n",
       "        -0.00642822, -0.00440735]),\n",
       " 'v2_41': array([-0.00490158,  0.00080239, -0.00540044, ...,  0.0013873 ,\n",
       "        -0.00163089,  0.00812666]),\n",
       " 'v2_42': array([-5.82781924e-04, -1.80619341e-04,  5.41209599e-05, ...,\n",
       "         1.86555232e-03,  1.99604473e-04, -3.68113774e-03]),\n",
       " 'v2_43': array([-0.02105474, -0.03607455, -0.03323922, ..., -0.01807098,\n",
       "         0.00753143,  0.02563111]),\n",
       " 'v2_44': array([8.04618382e-05, 7.75280473e-03, 5.47084824e-03, ...,\n",
       "        1.03246784e-02, 1.48083003e-02, 7.99657702e-03]),\n",
       " 'v2_45': array([-0.00237902, -0.00484105, -0.00691627, ..., -0.00281765,\n",
       "        -0.00532105, -0.00626794]),\n",
       " 'v2_46': array([-0.00700263, -0.01443171, -0.01125729, ..., -0.00198605,\n",
       "         0.0019584 , -0.0005022 ]),\n",
       " 'v2_47': array([-0.0096202 , -0.02244713, -0.02174841, ...,  0.02739876,\n",
       "         0.02931661,  0.03089179]),\n",
       " 'v2_48': array([0.00935783, 0.01472459, 0.00910508, ..., 0.00163732, 0.00410664,\n",
       "        0.00823102]),\n",
       " 'v2_49': array([-0.00111616, -0.00496304, -0.00849265, ...,  0.00283572,\n",
       "         0.00076003, -0.00084575]),\n",
       " 'v2_50': array([-0.00897998, -0.01501274, -0.01462723, ..., -0.01368566,\n",
       "        -0.01153867, -0.01018305]),\n",
       " 'v2_51': array([0.00510168, 0.00920213, 0.00725484, ..., 0.00497864, 0.01026602,\n",
       "        0.01483304]),\n",
       " 'v2_52': array([-0.00947177, -0.01465951, -0.0160088 , ...,  0.00403512,\n",
       "         0.00715801,  0.00799917]),\n",
       " 'v2_53': array([-0.01665626, -0.0232658 , -0.01804899, ..., -0.03972746,\n",
       "        -0.05046567, -0.04964751]),\n",
       " 'v2_54': array([-0.00343231, -0.00431596, -0.0012399 , ..., -0.02276945,\n",
       "        -0.02304115, -0.02578601]),\n",
       " 'v2_55': array([ 0.00250847,  0.01294362,  0.0190553 , ..., -0.01878594,\n",
       "        -0.01733209, -0.01409336]),\n",
       " 'v2_56': array([-0.00979189, -0.06910512, -0.05617299, ...,  0.01516002,\n",
       "         0.02021751,  0.01726558]),\n",
       " 'v2_57': array([0.00123556, 0.00676608, 0.00907601, ..., 0.00440558, 0.00385911,\n",
       "        0.00131765]),\n",
       " 'v2_58': array([-0.00448562, -0.00510586, -0.00226229, ..., -0.00293656,\n",
       "        -0.00038722,  0.00132407]),\n",
       " 'v2_59': array([ 0.00764366,  0.02025313,  0.02555524, ...,  0.00521568,\n",
       "        -0.00207934, -0.02272097]),\n",
       " 'v2_60': array([ 0.00032385, -0.00416912, -0.00529908, ...,  0.00022441,\n",
       "         0.0018908 ,  0.00295759]),\n",
       " 'v2_61': array([ 0.00015057, -0.00052353,  0.00046329, ..., -0.00780225,\n",
       "        -0.00474671,  0.00204338]),\n",
       " 'v2_62': array([-0.00055098,  0.0042664 ,  0.00028733, ..., -0.01535856,\n",
       "        -0.01014154, -0.00380947]),\n",
       " 'v2_63': array([ 0.00032241, -0.00476426, -0.0072859 , ..., -0.00043165,\n",
       "        -0.00208286, -0.0034591 ]),\n",
       " 'v2_64': array([-0.00514989, -0.00967648, -0.01076623, ...,  0.00498314,\n",
       "         0.00410693,  0.00593909]),\n",
       " 'v2_65': array([-9.96730949e-05,  1.82583396e-03,  1.20637731e-03, ...,\n",
       "         1.10626642e-02,  7.75079184e-03,  9.59712634e-03]),\n",
       " 'v2_66': array([ 0.00177237,  0.00444789,  0.00470122, ..., -0.03006613,\n",
       "        -0.02402857, -0.01803463]),\n",
       " 'v2_67': array([0.02050988, 0.03500972, 0.027881  , ..., 0.02398067, 0.02534746,\n",
       "        0.02432612]),\n",
       " 'v2_68': array([-0.00379767, -0.00748552, -0.00540038, ...,  0.02038961,\n",
       "         0.02679525,  0.03074526]),\n",
       " 'v2_69': array([0.01832087, 0.02549028, 0.01945107, ..., 0.00800273, 0.01200541,\n",
       "        0.01458498]),\n",
       " 'v2_70': array([ 0.00092922, -0.00138349,  0.00014831, ...,  0.01775339,\n",
       "         0.01804766,  0.01477714]),\n",
       " 'v2_71': array([ 0.00112522,  0.00127226,  0.00128976, ..., -0.01855813,\n",
       "        -0.02842961, -0.03322421]),\n",
       " 'v2_72': array([ 0.0203878 ,  0.02227749,  0.01056176, ..., -0.01075449,\n",
       "        -0.01416509, -0.01517782]),\n",
       " 'v2_73': array([ 0.00177371,  0.0017866 , -0.00276134, ...,  0.00680458,\n",
       "         0.00599707,  0.00663433]),\n",
       " 'v2_74': array([-0.00447897, -0.00682572, -0.00506065, ...,  0.01071993,\n",
       "        -0.0003082 , -0.00391093]),\n",
       " 'v3_0': array([-0.02264621, -0.03234456, -0.03132   , ..., -0.02758517,\n",
       "        -0.0243521 , -0.01827539]),\n",
       " 'v3_1': array([-0.00240496, -0.00633768, -0.01818763, ...,  0.00860963,\n",
       "        -0.00248461, -0.01470512]),\n",
       " 'v3_2': array([-0.00072116,  0.0039752 ,  0.00959619, ...,  0.02788237,\n",
       "         0.04511676,  0.05695943]),\n",
       " 'v3_3': array([-0.00621521, -0.01470135, -0.01327824, ...,  0.00883614,\n",
       "         0.00599764, -0.00814657]),\n",
       " 'v3_4': array([ 0.00761767,  0.01861619,  0.02035311, ..., -0.02107362,\n",
       "        -0.03497022, -0.03997998]),\n",
       " 'v3_5': array([0.00239119, 0.01418866, 0.01287829, ..., 0.01576554, 0.0191063 ,\n",
       "        0.0268618 ]),\n",
       " 'v3_6': array([ 0.00473666,  0.0057006 ,  0.00510892, ..., -0.00694451,\n",
       "         0.01412732,  0.02943775]),\n",
       " 'v3_7': array([ 0.00650214,  0.01344216,  0.01671594, ..., -0.04260867,\n",
       "        -0.03777089, -0.02839199]),\n",
       " 'v3_8': array([-0.00168791, -0.00510069,  0.00060811, ...,  0.00109735,\n",
       "        -0.00385914, -0.00986474]),\n",
       " 'v3_9': array([-0.01428977, -0.01553093, -0.01417603, ...,  0.02126461,\n",
       "         0.02605528,  0.02170442]),\n",
       " 'v3_10': array([ 0.00268021, -0.00177536, -0.00588315, ..., -0.00383886,\n",
       "        -0.00220995,  0.00188581]),\n",
       " 'v3_11': array([ 0.01030777,  0.01059435,  0.00479081, ...,  0.00247165,\n",
       "         0.00022355, -0.00154819]),\n",
       " 'v3_12': array([-9.79260568e-04, -4.93132823e-03, -6.96323439e-03, ...,\n",
       "         3.02895520e-03,  3.93568122e-03,  8.71599661e-05]),\n",
       " 'v3_13': array([-0.0117522 , -0.01293119, -0.00680926, ..., -0.0245707 ,\n",
       "        -0.0227867 , -0.01177509]),\n",
       " 'v3_14': array([ 0.00796253,  0.00911617,  0.003541  , ..., -0.00625046,\n",
       "        -0.00862648, -0.00842155]),\n",
       " 'v3_15': array([-0.00740692, -0.01591655, -0.01874621, ...,  0.00338176,\n",
       "        -0.00323725, -0.00642869]),\n",
       " 'v3_16': array([ 0.00085486, -0.00498355, -0.00982755, ..., -0.00938773,\n",
       "        -0.00450452,  0.00305197]),\n",
       " 'v3_17': array([-0.00342519, -0.00474407, -0.0049685 , ..., -0.03159277,\n",
       "        -0.039189  , -0.05107388]),\n",
       " 'v3_18': array([ 0.00469365,  0.02026042,  0.03006099, ..., -0.00521552,\n",
       "        -0.00290481, -0.00066733]),\n",
       " 'v3_19': array([ 0.0318468 ,  0.04509043,  0.04785174, ..., -0.0077153 ,\n",
       "        -0.0077432 , -0.00635034]),\n",
       " 'v3_20': array([-0.00209036, -0.00404815, -0.0031855 , ...,  0.00514396,\n",
       "         0.00444601,  0.00419805]),\n",
       " 'v3_21': array([ 0.02380831,  0.04113093,  0.03914813, ..., -0.0391559 ,\n",
       "        -0.03737623, -0.03369946]),\n",
       " 'v3_22': array([-0.01020701, -0.01239813, -0.01022099, ...,  0.01458836,\n",
       "         0.01584631,  0.01474324]),\n",
       " 'v3_23': array([ 0.00864695, -0.00279285, -0.01659559, ..., -0.01843291,\n",
       "        -0.01671972, -0.01763245]),\n",
       " 'v3_24': array([8.95764026e-05, 5.82134624e-03, 1.35702097e-02, ...,\n",
       "        2.30154554e-02, 1.86337143e-02, 1.44298386e-02]),\n",
       " 'v3_25': array([ 0.01615621,  0.02298348,  0.01872504, ..., -0.00302678,\n",
       "        -0.00229527, -0.00681359]),\n",
       " 'v3_26': array([ 0.00372411, -0.00855868, -0.01660142, ...,  0.01347274,\n",
       "         0.01016797,  0.0064292 ]),\n",
       " 'v3_27': array([-0.01322846, -0.0283544 , -0.02121784, ...,  0.00722184,\n",
       "         0.01612114,  0.01613997]),\n",
       " 'v3_28': array([-0.00303333, -0.00806256, -0.00742681, ...,  0.00831294,\n",
       "         0.00645819,  0.00909302]),\n",
       " 'v3_29': array([-0.00538533, -0.02529315, -0.02043026, ..., -0.03056557,\n",
       "        -0.02689675, -0.02972721]),\n",
       " 'v3_30': array([0.01200284, 0.02844898, 0.02855885, ..., 0.02304749, 0.0235175 ,\n",
       "        0.02485323]),\n",
       " 'v3_31': array([-0.00016525, -0.00051916,  0.00309838, ...,  0.02466844,\n",
       "         0.02441749,  0.02154353]),\n",
       " 'v3_32': array([-0.00105362, -0.00423416, -0.00567014, ..., -0.00033976,\n",
       "        -0.00598683, -0.00867815]),\n",
       " 'v3_33': array([-0.02203734, -0.02295378, -0.00357219, ..., -0.00498622,\n",
       "        -0.00611443, -0.00647542]),\n",
       " 'v3_34': array([-0.06066722, -0.08630129, -0.07686339, ...,  0.04124193,\n",
       "         0.04184878,  0.03993838]),\n",
       " 'v3_35': array([ 0.0003527 ,  0.01762044,  0.03525502, ..., -0.00970931,\n",
       "        -0.01090486, -0.01368783]),\n",
       " 'v3_36': array([-0.00924974, -0.01487034, -0.0100087 , ...,  0.03082957,\n",
       "         0.01648107,  0.00374449]),\n",
       " 'v3_37': array([ 0.04722969,  0.040029  ,  0.01019253, ..., -0.00643655,\n",
       "        -0.00255656,  0.00307225]),\n",
       " 'v3_38': array([-0.02122102, -0.0584227 , -0.05851183, ...,  0.00799586,\n",
       "         0.01357157,  0.01244781]),\n",
       " 'v3_39': array([0.01513858, 0.02983865, 0.02240085, ..., 0.01386539, 0.01297708,\n",
       "        0.00891128]),\n",
       " 'v3_40': array([-0.01532871, -0.0261603 , -0.02680615, ..., -0.01267965,\n",
       "        -0.01188882, -0.01441509]),\n",
       " 'v3_41': array([-0.01133096, -0.00773311, -0.01167188, ..., -0.00591421,\n",
       "        -0.01701847, -0.00984317]),\n",
       " 'v3_42': array([-0.00172423, -0.00598916, -0.0075477 , ...,  0.00447909,\n",
       "         0.00297875, -0.00083938]),\n",
       " 'v3_43': array([-0.0247191 , -0.03896853, -0.03305333, ...,  0.02522925,\n",
       "         0.04115906,  0.04862088]),\n",
       " 'v3_44': array([0.00347678, 0.01213149, 0.00718719, ..., 0.01014711, 0.01225459,\n",
       "        0.00431956]),\n",
       " 'v3_45': array([-0.00158304, -0.00357673, -0.00521297, ..., -0.00438433,\n",
       "        -0.00662768, -0.00709116]),\n",
       " 'v3_46': array([-0.00223246, -0.01512325, -0.01336692, ..., -0.00047426,\n",
       "         0.0056313 ,  0.0046451 ]),\n",
       " 'v3_47': array([-0.004922  , -0.01558819, -0.01724943, ...,  0.01651427,\n",
       "         0.01958606,  0.02548965]),\n",
       " 'v3_48': array([0.01528723, 0.02058911, 0.01448057, ..., 0.00941971, 0.015799  ,\n",
       "        0.02255631]),\n",
       " 'v3_49': array([-0.00278716, -0.0047259 , -0.00605321, ..., -0.00369192,\n",
       "        -0.00641337, -0.00937119]),\n",
       " 'v3_50': array([-0.00608526, -0.0081287 , -0.00735766, ..., -0.01735672,\n",
       "        -0.01310022, -0.01071048]),\n",
       " 'v3_51': array([0.00615061, 0.01113979, 0.00999584, ..., 0.00217839, 0.00816294,\n",
       "        0.01399273]),\n",
       " 'v3_52': array([-0.00640956, -0.01251562, -0.01916932, ..., -0.00055451,\n",
       "         0.00100177,  0.00154832]),\n",
       " 'v3_53': array([-0.01654754, -0.02183953, -0.01540412, ..., -0.04636799,\n",
       "        -0.05311615, -0.04941774]),\n",
       " 'v3_54': array([-0.00270329,  0.00185849,  0.00416847, ..., -0.01635509,\n",
       "        -0.01335625, -0.01401703]),\n",
       " 'v3_55': array([-0.0034646 ,  0.00047558,  0.0067859 , ..., -0.01322353,\n",
       "        -0.01150507, -0.00897219]),\n",
       " 'v3_56': array([-0.020012  , -0.08235189, -0.06665748, ...,  0.00876379,\n",
       "         0.01155532,  0.00843026]),\n",
       " 'v3_57': array([ 0.00140725,  0.00847097,  0.00965433, ...,  0.00399459,\n",
       "         0.00201257, -0.00063436]),\n",
       " 'v3_58': array([-0.00368121, -0.00553055, -0.00251133, ..., -0.00414466,\n",
       "        -0.00117405,  0.00041778]),\n",
       " 'v3_59': array([0.00818874, 0.0193655 , 0.02172377, ..., 0.01215898, 0.01069538,\n",
       "        0.00730186]),\n",
       " 'v3_60': array([ 0.00144952, -0.00333102, -0.00695414, ...,  0.0013259 ,\n",
       "         0.00350083,  0.00382848]),\n",
       " 'v3_61': array([ 3.01762903e-04, -1.95395587e-03, -1.56021689e-03, ...,\n",
       "        -1.08335804e-02, -6.98650384e-03,  1.07774411e-05]),\n",
       " 'v3_62': array([ 0.00310396,  0.00879973,  0.0063571 , ..., -0.01765932,\n",
       "        -0.0145996 , -0.00905098]),\n",
       " 'v3_63': array([-1.92112371e-03, -4.89448104e-03, -5.67590167e-03, ...,\n",
       "         7.94981146e-05, -2.49662489e-03, -5.25698775e-03]),\n",
       " 'v3_64': array([-0.00570364, -0.01110711, -0.01180135, ...,  0.00367859,\n",
       "         0.00522024,  0.00885329]),\n",
       " 'v3_65': array([ 0.00080578,  0.00248973, -0.00019081, ...,  0.00918954,\n",
       "         0.0061114 ,  0.00784484]),\n",
       " 'v3_66': array([ 0.0042678 ,  0.00962688,  0.01015692, ..., -0.02917824,\n",
       "        -0.02247586, -0.01564169]),\n",
       " 'v3_67': array([0.02244498, 0.03610852, 0.02628555, ..., 0.02986277, 0.02952478,\n",
       "        0.02817287]),\n",
       " 'v3_68': array([-0.00245226, -0.00739225, -0.00636262, ...,  0.01013487,\n",
       "         0.01774778,  0.02603662]),\n",
       " 'v3_69': array([0.02448609, 0.03301078, 0.02434816, ..., 0.00694722, 0.00905613,\n",
       "        0.01015034]),\n",
       " 'v3_70': array([0.00141756, 0.0014411 , 0.00307741, ..., 0.01997322, 0.01864318,\n",
       "        0.01520783]),\n",
       " 'v3_71': array([ 0.00239221,  0.00250149,  0.00174155, ..., -0.01544215,\n",
       "        -0.02537411, -0.03044719]),\n",
       " 'v3_72': array([ 0.02568537,  0.02932595,  0.01562199, ..., -0.01529643,\n",
       "        -0.01976343, -0.02120983]),\n",
       " 'v3_73': array([ 0.00041599, -0.00078665, -0.00544577, ...,  0.00764191,\n",
       "         0.00642602,  0.00634993]),\n",
       " 'v3_74': array([-0.00184312, -0.00420071, -0.00200922, ...,  0.0121535 ,\n",
       "        -0.00041283, -0.00449293]),\n",
       " 'v4_0': array([-0.01495637, -0.02430616, -0.02590737, ..., -0.02465745,\n",
       "        -0.02270344, -0.016071  ]),\n",
       " 'v4_1': array([-0.00548274, -0.01155314, -0.02365318, ...,  0.00173453,\n",
       "        -0.00445987, -0.01249146]),\n",
       " 'v4_2': array([ 0.00195942,  0.00828516,  0.01417739, ..., -0.00110278,\n",
       "         0.00075982,  0.00062327]),\n",
       " 'v4_3': array([-0.00648869, -0.01511001, -0.01106619, ...,  0.01453334,\n",
       "         0.01202693, -0.00393386]),\n",
       " 'v4_4': array([-0.00717401, -0.01026896, -0.00850794, ...,  0.03421072,\n",
       "         0.03208994,  0.02442866]),\n",
       " 'v4_5': array([-0.00383019, -0.00338945, -0.00835702, ...,  0.02707526,\n",
       "         0.02991212,  0.0412342 ]),\n",
       " 'v4_6': array([ 0.01347083,  0.01722043,  0.01166929, ...,  0.00197646,\n",
       "        -0.00078755, -0.00476182]),\n",
       " 'v4_7': array([ 0.0032375 ,  0.0092498 ,  0.01224735, ..., -0.02842166,\n",
       "        -0.02528388, -0.01911676]),\n",
       " 'v4_8': array([-0.00386478, -0.00849347, -0.00060817, ...,  0.0069736 ,\n",
       "        -0.00052205, -0.00786106]),\n",
       " 'v4_9': array([-0.02445348, -0.03298765, -0.0312964 , ...,  0.01928199,\n",
       "         0.0237256 ,  0.02082758]),\n",
       " 'v4_10': array([ 0.00381791, -0.00014416, -0.00509876, ..., -0.00295923,\n",
       "        -0.00151491,  0.00042677]),\n",
       " 'v4_11': array([ 0.0156253 ,  0.01570648,  0.0057628 , ..., -0.00097606,\n",
       "        -0.00099531, -0.00324564]),\n",
       " 'v4_12': array([-0.00311854, -0.00644644, -0.00812596, ...,  0.00219633,\n",
       "         0.00113294, -0.00385207]),\n",
       " 'v4_13': array([-0.00975607, -0.01140462, -0.00790701, ..., -0.02355102,\n",
       "        -0.024677  , -0.01682354]),\n",
       " 'v4_14': array([ 0.00300928,  0.00603162,  0.0016703 , ..., -0.00159513,\n",
       "        -0.00533756, -0.00659199]),\n",
       " 'v4_15': array([-0.00782246, -0.0165795 , -0.01983725, ...,  0.01360645,\n",
       "         0.01038377,  0.00693907]),\n",
       " 'v4_16': array([-0.00077098, -0.00618417, -0.01292953, ..., -0.0158987 ,\n",
       "        -0.01107262, -0.0053148 ]),\n",
       " 'v4_17': array([-0.00490251, -0.01074119, -0.01214136, ..., -0.01570471,\n",
       "        -0.02507152, -0.03555345]),\n",
       " 'v4_18': array([ 0.01043456,  0.03338837,  0.0505008 , ..., -0.0061963 ,\n",
       "        -0.00374482, -0.00065515]),\n",
       " 'v4_19': array([ 0.02615691,  0.04175527,  0.04740712, ..., -0.00904028,\n",
       "        -0.00734586, -0.00496959]),\n",
       " 'v4_20': array([-0.00076299, -0.00097839,  0.0014326 , ..., -0.0004055 ,\n",
       "        -0.00496825, -0.009629  ]),\n",
       " 'v4_21': array([ 0.00465383,  0.00745336,  0.00953544, ..., -0.03165232,\n",
       "        -0.02966442, -0.02458733]),\n",
       " 'v4_22': array([-0.00617064, -0.01031018, -0.01139618, ...,  0.01763062,\n",
       "         0.01973728,  0.02074518]),\n",
       " 'v4_23': array([ 0.02298313,  0.01891157, -0.00096926, ..., -0.01088879,\n",
       "        -0.01452613, -0.01711925]),\n",
       " 'v4_24': array([0.00501004, 0.00249922, 0.00330613, ..., 0.04133978, 0.03928139,\n",
       "        0.03634799]),\n",
       " 'v4_25': array([ 0.00017112,  0.02373259,  0.04517194, ..., -0.01179188,\n",
       "        -0.0130163 , -0.01728467]),\n",
       " 'v4_26': array([-0.00257682, -0.01797428, -0.0274062 , ...,  0.01252196,\n",
       "         0.00631316,  0.00228373]),\n",
       " 'v4_27': array([-0.02064681, -0.04091579, -0.03930422, ...,  0.00209349,\n",
       "         0.00734149,  0.00972996]),\n",
       " 'v4_28': array([0.0047907 , 0.01224114, 0.01986819, ..., 0.02642982, 0.02144644,\n",
       "        0.01733228]),\n",
       " 'v4_29': array([ 0.00060557, -0.0011504 , -0.00571986, ..., -0.02612991,\n",
       "        -0.01528864, -0.01027936]),\n",
       " 'v4_30': array([0.01292195, 0.02668466, 0.02463375, ..., 0.0259345 , 0.02498632,\n",
       "        0.02386395]),\n",
       " 'v4_31': array([-0.00143072, -0.00136887,  0.0032662 , ...,  0.01887164,\n",
       "         0.020395  ,  0.01829549]),\n",
       " 'v4_32': array([-0.00088759, -0.00099509, -0.0025041 , ..., -0.00650515,\n",
       "        -0.01046918, -0.01199244]),\n",
       " 'v4_33': array([-0.01651794, -0.01593751, -0.00133457, ...,  0.00322702,\n",
       "         0.00185215,  0.00112672]),\n",
       " 'v4_34': array([-0.04822188, -0.07084248, -0.06464681, ...,  0.039586  ,\n",
       "         0.0438287 ,  0.0428938 ]),\n",
       " 'v4_35': array([ 0.00129998,  0.01526925,  0.03162941, ..., -0.00889467,\n",
       "        -0.00947808, -0.01161094]),\n",
       " 'v4_36': array([-0.00299356, -0.00504994, -0.00053845, ...,  0.03165913,\n",
       "         0.01831776,  0.00867696]),\n",
       " 'v4_37': array([ 0.05848976,  0.04870103,  0.01026695, ..., -0.00494246,\n",
       "        -0.00197075,  0.00170178]),\n",
       " 'v4_38': array([-1.66488748e-02, -4.70574906e-02, -4.87398485e-02, ...,\n",
       "        -7.19149226e-05,  4.77526901e-03,  3.24081889e-03]),\n",
       " 'v4_39': array([-0.07674891, -0.09235185, -0.02240395, ...,  0.01841651,\n",
       "         0.01532854,  0.00901316]),\n",
       " 'v4_40': array([-0.00250974, -0.00496738, -0.00708502, ..., -0.00934302,\n",
       "        -0.01099867, -0.01368709]),\n",
       " 'v4_41': array([-0.01808462, -0.01910799, -0.01979432, ..., -0.01278504,\n",
       "        -0.03006147, -0.0280119 ]),\n",
       " 'v4_42': array([-0.00520846, -0.01688152, -0.01778028, ...,  0.00719573,\n",
       "         0.00736455,  0.00388872]),\n",
       " 'v4_43': array([-0.02898674, -0.04507915, -0.03794881, ...,  0.02814275,\n",
       "         0.03416507,  0.03352813]),\n",
       " 'v4_44': array([0.00902195, 0.01995873, 0.0128073 , ..., 0.01494727, 0.01533244,\n",
       "        0.00373657]),\n",
       " 'v4_45': array([-0.0022376 , -0.0005613 ,  0.00266747, ...,  0.00404739,\n",
       "         0.00781464,  0.00893527]),\n",
       " 'v4_46': array([-0.00594923, -0.01663912, -0.01177713, ..., -0.00569948,\n",
       "         0.00258835,  0.00154319]),\n",
       " 'v4_47': array([-0.00357876, -0.01587996, -0.01880486, ...,  0.01434213,\n",
       "         0.02008223,  0.0268365 ]),\n",
       " 'v4_48': array([0.01067167, 0.01201626, 0.00234695, ..., 0.01055967, 0.01711291,\n",
       "        0.02590638]),\n",
       " 'v4_49': array([-0.0068971 , -0.01184885, -0.01307138, ...,  0.00304721,\n",
       "        -0.00026692, -0.00447448]),\n",
       " 'v4_50': array([-0.00594728, -0.0062282 , -0.00329449, ..., -0.01073611,\n",
       "        -0.01028694, -0.01283709]),\n",
       " 'v4_51': array([0.00766002, 0.01263104, 0.00967733, ..., 0.00114466, 0.00632664,\n",
       "        0.01246616]),\n",
       " 'v4_52': array([-0.002674  , -0.00569066, -0.01094031, ...,  0.00126803,\n",
       "         0.00098351, -0.00075369]),\n",
       " 'v4_53': array([-0.0106941 , -0.01372199, -0.00984007, ..., -0.0330537 ,\n",
       "        -0.03581487, -0.03236409]),\n",
       " 'v4_54': array([-0.00080092,  0.00042607,  0.00092145, ..., -0.01582132,\n",
       "        -0.01525606, -0.01739349]),\n",
       " 'v4_55': array([-0.00438831, -0.00025513,  0.00611086, ...,  0.00203096,\n",
       "         0.00233504,  0.00207389]),\n",
       " 'v4_56': array([-0.06800861, -0.14754575, -0.1184102 , ..., -0.00016496,\n",
       "         0.00729854,  0.00921231]),\n",
       " 'v4_57': array([ 0.00308648,  0.00503605,  0.00423382, ...,  0.00074296,\n",
       "        -0.00088795, -0.00413246]),\n",
       " 'v4_58': array([-0.00421863, -0.00547483, -0.00244534, ..., -0.00957761,\n",
       "        -0.00490008, -0.00258334]),\n",
       " 'v4_59': array([-0.00678569, -0.00813873, -0.00950837, ...,  0.01149124,\n",
       "         0.00231231, -0.01853422]),\n",
       " 'v4_60': array([ 0.00275417, -0.00404654, -0.01424342, ...,  0.00106686,\n",
       "         0.00239402,  0.00238131]),\n",
       " 'v4_61': array([ 0.00312165,  0.00300711,  0.00085446, ..., -0.0051444 ,\n",
       "        -0.00089184,  0.00549265]),\n",
       " 'v4_62': array([ 0.00448923,  0.01099785,  0.00848535, ..., -0.01332774,\n",
       "        -0.01233223, -0.00712703]),\n",
       " 'v4_63': array([ 0.00117294,  0.00459592,  0.00644388, ...,  0.00068281,\n",
       "        -0.00088128, -0.00085112]),\n",
       " 'v4_64': array([-0.00162545, -0.00583417, -0.00856562, ...,  0.00526072,\n",
       "         0.00616408,  0.00944211]),\n",
       " 'v4_65': array([ 0.00162396,  0.00207165, -0.0021547 , ...,  0.00826317,\n",
       "         0.00405956,  0.0040068 ]),\n",
       " 'v4_66': array([ 0.0052259 ,  0.00925657,  0.00300357, ..., -0.01830228,\n",
       "        -0.01195618, -0.00677187]),\n",
       " 'v4_67': array([0.02054719, 0.03252442, 0.02432343, ..., 0.0281929 , 0.02996014,\n",
       "        0.03108685]),\n",
       " 'v4_68': array([-0.00582259, -0.01399437, -0.01285616, ..., -0.00487878,\n",
       "         0.00211488,  0.01145749]),\n",
       " 'v4_69': array([0.02966162, 0.03462274, 0.02064733, ..., 0.0083896 , 0.00990433,\n",
       "        0.01015265]),\n",
       " 'v4_70': array([ 0.00074101, -0.00099973,  0.00100914, ...,  0.02075609,\n",
       "         0.01789322,  0.01335475]),\n",
       " 'v4_71': array([ 1.10225848e-03, -2.75055379e-05, -1.20007978e-03, ...,\n",
       "        -1.50040352e-02, -2.40632685e-02, -2.90089365e-02]),\n",
       " 'v4_72': array([ 0.02358089,  0.0277214 ,  0.0158231 , ..., -0.0154681 ,\n",
       "        -0.02314143, -0.02646634]),\n",
       " 'v4_73': array([ 0.00066862,  0.00055446, -0.00464435, ...,  0.0083557 ,\n",
       "         0.00635253,  0.0045166 ]),\n",
       " 'v4_74': array([ 0.0001448 , -0.0002381 , -0.0009761 , ...,  0.01118507,\n",
       "         0.00025955, -0.00386353]),\n",
       " 'v5_0': array([-0.00739164, -0.01367287, -0.01635019, ..., -0.0180925 ,\n",
       "        -0.01656347, -0.01121329]),\n",
       " 'v5_1': array([-0.00694663, -0.01491357, -0.02722874, ..., -0.00340001,\n",
       "        -0.00870394, -0.01428831]),\n",
       " 'v5_2': array([0.00281167, 0.00725536, 0.01037428, ..., 0.00030047, 0.00107984,\n",
       "        0.00056149]),\n",
       " 'v5_3': array([ 0.00010185,  0.00388794,  0.00940102, ...,  0.00813971,\n",
       "         0.00567178, -0.00778425]),\n",
       " 'v5_4': array([-0.01041263, -0.01399952, -0.01147152, ...,  0.03255729,\n",
       "         0.03098055,  0.02550033]),\n",
       " 'v5_5': array([-0.00479203, -0.00569327, -0.00858068, ...,  0.01368224,\n",
       "         0.01663883,  0.02169327]),\n",
       " 'v5_6': array([ 0.01185086,  0.01495499,  0.01034431, ...,  0.00288652,\n",
       "         0.00137638, -0.00116811]),\n",
       " 'v5_7': array([ 0.00256317,  0.00538245,  0.00766153, ..., -0.01843989,\n",
       "        -0.0159869 , -0.01334917]),\n",
       " 'v5_8': array([-0.00149081, -0.00669863, -0.00134784, ...,  0.0009971 ,\n",
       "        -0.00451519, -0.00872417]),\n",
       " 'v5_9': array([-0.03188057, -0.0433922 , -0.0408107 , ...,  0.01330472,\n",
       "         0.01822537,  0.01614236]),\n",
       " 'v5_10': array([ 0.00401563,  0.00249116,  0.00097941, ..., -0.00140423,\n",
       "        -0.00035955, -0.00064981]),\n",
       " 'v5_11': array([ 0.01375951,  0.01299165,  0.00339003, ..., -0.00503158,\n",
       "        -0.00237701, -0.00409954]),\n",
       " 'v5_12': array([-1.18219079e-04, -4.37204432e-03, -6.18751746e-03, ...,\n",
       "         4.86527730e-03,  4.30329844e-03, -5.58809174e-05]),\n",
       " 'v5_13': array([-0.00792338, -0.01126219, -0.01041481, ..., -0.02601996,\n",
       "        -0.02665504, -0.0184233 ]),\n",
       " 'v5_14': array([ 0.01823574,  0.01766534,  0.00571255, ..., -0.01117898,\n",
       "        -0.01315855, -0.01414502]),\n",
       " 'v5_15': array([-0.00554513, -0.01298835, -0.01618433, ...,  0.00781235,\n",
       "         0.0051278 ,  0.00086109]),\n",
       " 'v5_16': array([-0.00305076, -0.00896459, -0.01444938, ..., -0.01482931,\n",
       "        -0.01035667, -0.00494896]),\n",
       " 'v5_17': array([ 0.00019466, -0.00079463, -0.00377   , ..., -0.01977583,\n",
       "        -0.02569191, -0.03533692]),\n",
       " 'v5_18': array([ 0.00838712,  0.02939172,  0.04624519, ..., -0.00658861,\n",
       "        -0.0027295 ,  0.00041816]),\n",
       " 'v5_19': array([-0.00802994, -0.00498884,  0.0007923 , ..., -0.00654522,\n",
       "        -0.00941422, -0.00971121]),\n",
       " 'v5_20': array([-0.00108839, -0.00138557,  0.00287628, ..., -0.00513024,\n",
       "        -0.01212542, -0.01768413]),\n",
       " 'v5_21': array([ 0.008848  ,  0.01467127,  0.01717448, ..., -0.03247496,\n",
       "        -0.03170351, -0.02772649]),\n",
       " 'v5_22': array([-0.00304224, -0.00549302, -0.00620726, ...,  0.01852479,\n",
       "         0.01986202,  0.02296483]),\n",
       " 'v5_23': array([ 0.02111841,  0.02015685,  0.0047412 , ..., -0.00695535,\n",
       "        -0.00959315, -0.0120759 ]),\n",
       " 'v5_24': array([0.00449871, 0.00085686, 0.00171234, ..., 0.04289979, 0.04176845,\n",
       "        0.03681895]),\n",
       " 'v5_25': array([ 0.00569794,  0.02666337,  0.04179265, ..., -0.01095722,\n",
       "        -0.01204417, -0.01766491]),\n",
       " 'v5_26': array([-0.00311867, -0.01524101, -0.02204427, ...,  0.01163727,\n",
       "         0.00425776, -0.00094523]),\n",
       " 'v5_27': array([-0.01784557, -0.03678312, -0.03342148, ...,  0.0001764 ,\n",
       "         0.00410276,  0.0051951 ]),\n",
       " 'v5_28': array([0.00940927, 0.01806234, 0.02436232, ..., 0.02891239, 0.02359074,\n",
       "        0.01966972]),\n",
       " 'v5_29': array([ 0.0025519 ,  0.00224396,  0.00050802, ..., -0.0259802 ,\n",
       "        -0.01803834, -0.01933391]),\n",
       " 'v5_30': array([0.01402949, 0.02879027, 0.0265253 , ..., 0.02806249, 0.02551201,\n",
       "        0.02332777]),\n",
       " 'v5_31': array([-0.00155954, -0.00117751,  0.00302879, ...,  0.01507968,\n",
       "         0.01681402,  0.01373389]),\n",
       " 'v5_32': array([ 0.00051709, -0.00102386, -0.003001  , ...,  0.00497041,\n",
       "         0.00220697, -0.00209296]),\n",
       " 'v5_33': array([-0.01416204, -0.012544  ,  0.00138917, ...,  0.00628523,\n",
       "         0.0033806 ,  0.0015856 ]),\n",
       " 'v5_34': array([-0.05057406, -0.07714309, -0.07056083, ...,  0.03683548,\n",
       "         0.03488938,  0.03143827]),\n",
       " 'v5_35': array([ 0.00344363,  0.01702735,  0.03175901, ..., -0.00367113,\n",
       "         0.00017211, -0.00110147]),\n",
       " 'v5_36': array([-0.00227137, -0.00517888,  0.00070464, ...,  0.03000864,\n",
       "         0.0175494 ,  0.00776497]),\n",
       " 'v5_37': array([0.06416533, 0.05713066, 0.01109674, ..., 0.0008039 , 0.0051948 ,\n",
       "        0.00988532]),\n",
       " 'v5_38': array([-0.01573953, -0.04617202, -0.04763661, ..., -0.00111387,\n",
       "         0.0021276 , -0.00178171]),\n",
       " 'v5_39': array([0.01464814, 0.0302776 , 0.02429843, ..., 0.0150846 , 0.01219193,\n",
       "        0.00692857]),\n",
       " 'v5_40': array([-0.00164458, -0.00566239, -0.00692912, ..., -0.01292127,\n",
       "        -0.01865258, -0.02257312]),\n",
       " 'v5_41': array([-0.01714553, -0.01831621, -0.01876937, ..., -0.01487568,\n",
       "        -0.03288918, -0.03059859]),\n",
       " 'v5_42': array([-0.00507322, -0.01743933, -0.01592052, ...,  0.01060308,\n",
       "         0.00901971,  0.00421091]),\n",
       " 'v5_43': array([-0.02352524, -0.03458373, -0.02576046, ...,  0.02370969,\n",
       "         0.02976918,  0.03001887]),\n",
       " 'v5_44': array([0.00804894, 0.01730594, 0.00832827, ..., 0.01318578, 0.01279818,\n",
       "        0.00301812]),\n",
       " 'v5_45': array([ 0.00031361,  0.00401293,  0.00733714, ..., -0.00190756,\n",
       "         0.00196073,  0.00503668]),\n",
       " 'v5_46': array([-0.0017863 , -0.01101078, -0.01006422, ...,  0.00151815,\n",
       "         0.00611614,  0.00786895]),\n",
       " 'v5_47': array([-0.00210245, -0.01320947, -0.01597706, ...,  0.01182507,\n",
       "         0.01787197,  0.02624331]),\n",
       " 'v5_48': array([ 0.00076382,  0.00019269, -0.00452835, ...,  0.00606087,\n",
       "         0.01102241,  0.0205378 ]),\n",
       " 'v5_49': array([-0.00887764, -0.01846689, -0.02233003, ...,  0.00905254,\n",
       "         0.00540252,  0.0005709 ]),\n",
       " 'v5_50': array([ 0.00154537,  0.00549889,  0.00558355, ..., -0.01196024,\n",
       "        -0.00888236, -0.00930037]),\n",
       " 'v5_51': array([0.00647354, 0.00882624, 0.0062911 , ..., 0.00351317, 0.00753109,\n",
       "        0.01143851]),\n",
       " 'v5_52': array([-0.00149416, -0.00454544, -0.00434811, ...,  0.00351504,\n",
       "        -0.00122697, -0.00390291]),\n",
       " 'v5_53': array([-0.00905678, -0.0133709 , -0.01090631, ..., -0.0223788 ,\n",
       "        -0.02400893, -0.0220521 ]),\n",
       " 'v5_54': array([ 1.59584790e-03,  1.59984401e-03,  3.69209667e-05, ...,\n",
       "        -1.09273314e-02, -1.09987530e-02, -1.15266929e-02]),\n",
       " 'v5_55': array([-0.00135386,  0.0028556 ,  0.01041428, ...,  0.01335179,\n",
       "         0.01248416,  0.00983893]),\n",
       " 'v5_56': array([-0.07915866, -0.16106768, -0.12772207, ..., -0.00200213,\n",
       "         0.00310064,  0.00128807]),\n",
       " 'v5_57': array([ 0.00682201,  0.01089881,  0.01208793, ..., -0.00181095,\n",
       "        -0.00395446, -0.00713232]),\n",
       " 'v5_58': array([-0.00337827, -0.00544077, -0.00365858, ..., -0.00922713,\n",
       "        -0.00525083, -0.00226181]),\n",
       " 'v5_59': array([-0.00620078, -0.00966765, -0.01267307, ...,  0.01499622,\n",
       "         0.00687243, -0.01175564]),\n",
       " 'v5_60': array([-0.00222588, -0.01222805, -0.02225402, ...,  0.00228834,\n",
       "         0.00410914,  0.00413315]),\n",
       " 'v5_61': array([ 0.00360705,  0.00509189,  0.00405391, ..., -0.0016809 ,\n",
       "         0.00157337,  0.00798574]),\n",
       " 'v5_62': array([ 0.00437731,  0.01068906,  0.00789499, ..., -0.01289776,\n",
       "        -0.01307307, -0.00843732]),\n",
       " 'v5_63': array([-3.52910144e-03, -4.67926577e-03, -1.25147127e-03, ...,\n",
       "         2.42104762e-03, -9.29916128e-05, -1.35041152e-03]),\n",
       " 'v5_64': array([-0.00028897, -0.00275843, -0.00452435, ...,  0.00678142,\n",
       "         0.00654149,  0.00789032]),\n",
       " 'v5_65': array([ 3.32717172e-03,  1.38913923e-03, -7.02270070e-03, ...,\n",
       "         3.26493589e-03, -3.44639233e-04, -8.48788526e-05]),\n",
       " 'v5_66': array([ 0.00137916,  0.0018974 , -0.00059604, ..., -0.01298588,\n",
       "        -0.00867002, -0.00638163]),\n",
       " 'v5_67': array([0.01698813, 0.03053307, 0.02694809, ..., 0.019118  , 0.02175831,\n",
       "        0.02207574]),\n",
       " 'v5_68': array([-0.00428219, -0.0114335 , -0.01189968, ..., -0.00664383,\n",
       "        -0.0010163 ,  0.00602972]),\n",
       " 'v5_69': array([0.02769063, 0.03327232, 0.01974268, ..., 0.00812567, 0.00774355,\n",
       "        0.0067857 ]),\n",
       " 'v5_70': array([ 0.00201454, -0.00074   , -0.00095422, ...,  0.02016653,\n",
       "         0.0194075 ,  0.01552053]),\n",
       " 'v5_71': array([ 0.00276369,  0.00358242,  0.00288428, ..., -0.01625265,\n",
       "        -0.02367951, -0.02689393]),\n",
       " 'v5_72': array([ 0.02521015,  0.02866674,  0.01503174, ..., -0.01151649,\n",
       "        -0.01322111, -0.01504682]),\n",
       " 'v5_73': array([-0.00018117, -0.00175294, -0.00591003, ...,  0.00632015,\n",
       "         0.00480264,  0.00338359]),\n",
       " 'v5_74': array([-0.00038401, -0.00050946, -0.00198228, ...,  0.00910738,\n",
       "        -0.00187259, -0.00663564]),\n",
       " 'v6_0': array([-0.00374182, -0.00958969, -0.01309636, ..., -0.01386203,\n",
       "        -0.01408494, -0.01041171]),\n",
       " 'v6_1': array([-0.00645755, -0.00729681, -0.01326849, ...,  0.00136717,\n",
       "        -0.00352781, -0.0097246 ]),\n",
       " 'v6_2': array([ 0.00157996,  0.00449103,  0.00861787, ..., -0.01408901,\n",
       "        -0.00079058,  0.01289052]),\n",
       " 'v6_3': array([0.00141225, 0.00493494, 0.0040217 , ..., 0.02906572, 0.02392031,\n",
       "        0.00971554]),\n",
       " 'v6_4': array([-0.0116836 , -0.00793702,  0.00425965, ...,  0.02732435,\n",
       "         0.01584619, -0.00170864]),\n",
       " 'v6_5': array([-0.00175235, -0.0118245 , -0.02017174, ..., -0.00279638,\n",
       "        -0.00693603, -0.0083793 ]),\n",
       " 'v6_6': array([ 0.00803189,  0.00806498,  0.00302188, ..., -0.00397379,\n",
       "        -0.00808591, -0.00813723]),\n",
       " 'v6_7': array([-0.00502901, -0.00533119,  0.00020764, ...,  0.02307133,\n",
       "         0.02488373,  0.021744  ]),\n",
       " 'v6_8': array([-0.00162705, -0.00468358, -0.00283617, ...,  0.00661169,\n",
       "         0.00472915,  0.00778799]),\n",
       " 'v6_9': array([-0.00973135, -0.01939583, -0.02391945, ..., -0.00847449,\n",
       "        -0.01720222, -0.01074724]),\n",
       " 'v6_10': array([-0.00366046, -0.01308638, -0.01380377, ..., -0.01121093,\n",
       "        -0.00455585,  0.0044574 ]),\n",
       " 'v6_11': array([0.01000573, 0.01164856, 0.00638161, ..., 0.0010282 , 0.00625224,\n",
       "        0.00222845]),\n",
       " 'v6_12': array([-0.00273345, -0.00921302, -0.00960173, ...,  0.00413034,\n",
       "         0.00013757, -0.00678131]),\n",
       " 'v6_13': array([-0.00487331, -0.01965993, -0.02627461, ..., -0.02398892,\n",
       "        -0.0277214 , -0.02348568]),\n",
       " 'v6_14': array([ 0.00345118,  0.00312831, -0.00059004, ...,  0.00202211,\n",
       "        -0.00169361, -0.00308868]),\n",
       " 'v6_15': array([-0.00486392, -0.01109658, -0.01363118, ...,  0.0044038 ,\n",
       "         0.00180385, -0.00079374]),\n",
       " 'v6_16': array([-0.00543504, -0.01233732, -0.01754054, ..., -0.01434711,\n",
       "        -0.01248774, -0.01168061]),\n",
       " 'v6_17': array([ 0.0031858 ,  0.0108712 ,  0.016723  , ..., -0.01441979,\n",
       "        -0.01484861, -0.0116549 ]),\n",
       " 'v6_18': array([-0.00185232,  0.00208302,  0.0106111 , ..., -0.00129282,\n",
       "        -0.00482757, -0.01215016]),\n",
       " 'v6_19': array([-0.02329681, -0.02966253, -0.02975786, ..., -0.00032079,\n",
       "        -0.00013707,  0.00138752]),\n",
       " 'v6_20': array([-0.00042209, -0.0015284 ,  0.00218765, ..., -0.00398841,\n",
       "        -0.01046231, -0.015906  ]),\n",
       " 'v6_21': array([ 0.00249024,  0.00505311,  0.00877609, ..., -0.02552627,\n",
       "        -0.02418623, -0.0217072 ]),\n",
       " 'v6_22': array([ 0.00090422,  0.00067981, -0.00239916, ...,  0.0146013 ,\n",
       "         0.01553673,  0.01784539]),\n",
       " 'v6_23': array([ 0.01520414,  0.01703459,  0.00597288, ..., -0.00152126,\n",
       "        -0.00382523, -0.00574499]),\n",
       " 'v6_24': array([ 0.00567708, -0.01590526, -0.02765   , ...,  0.03451786,\n",
       "         0.03328791,  0.03210598]),\n",
       " 'v6_25': array([-0.00283038,  0.02015492,  0.04302929, ..., -0.00857983,\n",
       "        -0.01127963, -0.01763047]),\n",
       " 'v6_26': array([-0.00413287, -0.01498077, -0.02041429, ...,  0.01024671,\n",
       "         0.00341688, -0.0006113 ]),\n",
       " 'v6_27': array([-0.01802473, -0.03868427, -0.03625526, ..., -0.00745798,\n",
       "        -0.00185747,  0.0037535 ]),\n",
       " 'v6_28': array([0.00701342, 0.01461894, 0.02172857, ..., 0.0240498 , 0.02072379,\n",
       "        0.01858558]),\n",
       " 'v6_29': array([ 0.00064926,  0.00126282, -0.00218824, ..., -0.02146042,\n",
       "        -0.01394564, -0.01311981]),\n",
       " 'v6_30': array([0.01134839, 0.02331337, 0.02214951, ..., 0.01899272, 0.01903481,\n",
       "        0.01914675]),\n",
       " 'v6_31': array([-0.0025739 , -0.00243505,  0.00116548, ...,  0.00966938,\n",
       "         0.01088221,  0.00807986]),\n",
       " 'v6_32': array([-0.00129265, -0.00423729, -0.00395159, ...,  0.00106277,\n",
       "        -0.00202648, -0.00424385]),\n",
       " 'v6_33': array([ 0.04254805,  0.08208165,  0.04217762, ..., -0.01185334,\n",
       "        -0.01852889, -0.03302895]),\n",
       " 'v6_34': array([-0.04159019, -0.06183251, -0.05708833, ...,  0.03194834,\n",
       "         0.02958088,  0.02621251]),\n",
       " 'v6_35': array([0.00642181, 0.01915811, 0.02949497, ..., 0.00352741, 0.00183007,\n",
       "        0.00197027]),\n",
       " 'v6_36': array([-0.0009531 , -0.00510122, -0.00128263, ...,  0.03102695,\n",
       "         0.0183972 ,  0.00894909]),\n",
       " 'v6_37': array([ 0.05970793,  0.05649424,  0.01249142, ..., -0.00732708,\n",
       "        -0.00504134, -0.0029209 ]),\n",
       " 'v6_38': array([-0.0158039 , -0.04767751, -0.04965052, ..., -0.00227569,\n",
       "         0.00083555, -0.00260773]),\n",
       " 'v6_39': array([0.01209389, 0.02685512, 0.02166472, ..., 0.01457803, 0.01142971,\n",
       "        0.00646921]),\n",
       " 'v6_40': array([ 0.01010067,  0.02076042,  0.01804104, ..., -0.00527272,\n",
       "        -0.00540165, -0.00740887]),\n",
       " 'v6_41': array([-0.01394397, -0.0112042 , -0.01232326, ..., -0.0157338 ,\n",
       "        -0.0334019 , -0.03054575]),\n",
       " 'v6_42': array([-0.00519933, -0.01754607, -0.01396435, ...,  0.01023325,\n",
       "         0.00813052,  0.00278395]),\n",
       " 'v6_43': array([-0.01503782, -0.02010523, -0.01224879, ...,  0.02131488,\n",
       "         0.02519717,  0.02370812]),\n",
       " 'v6_44': array([ 0.00478645,  0.00900723, -0.00110123, ..., -0.00047902,\n",
       "         0.00061084, -0.00433366]),\n",
       " 'v6_45': array([-0.00080778,  0.0030086 ,  0.00814567, ...,  0.0004956 ,\n",
       "         0.00521303,  0.00872034]),\n",
       " 'v6_46': array([-0.00230169, -0.02879432, -0.03602916, ..., -0.00100257,\n",
       "         0.00911552,  0.00705785]),\n",
       " 'v6_47': array([-0.00422443, -0.01767705, -0.02036851, ...,  0.01224174,\n",
       "         0.01975671,  0.02885258]),\n",
       " 'v6_48': array([ 0.00073444,  0.00742536,  0.00497799, ..., -0.00685451,\n",
       "        -0.00048501,  0.01101875]),\n",
       " 'v6_49': array([-0.01301933, -0.01813133, -0.01649588, ...,  0.01016614,\n",
       "         0.00687765,  0.00332827]),\n",
       " 'v6_50': array([ 0.000511  ,  0.0023241 ,  0.00194368, ..., -0.01046424,\n",
       "        -0.00765438, -0.00570348]),\n",
       " 'v6_51': array([0.00656041, 0.00962148, 0.00818719, ..., 0.00238442, 0.00658568,\n",
       "        0.01082806]),\n",
       " 'v6_52': array([ 0.00165859,  0.00160402,  0.00156528, ..., -0.00111468,\n",
       "        -0.00290338, -0.00344599]),\n",
       " 'v6_53': array([-0.0080464 , -0.01234139, -0.01154404, ..., -0.01305325,\n",
       "        -0.01275838, -0.01141645]),\n",
       " 'v6_54': array([0.00188714, 0.0083507 , 0.01128236, ..., 0.00926821, 0.0084569 ,\n",
       "        0.00614864]),\n",
       " 'v6_55': array([-0.00168215,  0.0032383 ,  0.01078672, ...,  0.01471419,\n",
       "         0.01416175,  0.01239099]),\n",
       " 'v6_56': array([-8.80417076e-02, -1.74984648e-01, -1.41396855e-01, ...,\n",
       "        -4.12994720e-03,  2.51077064e-03,  1.38291560e-04]),\n",
       " 'v6_57': array([ 7.12737075e-03,  1.34957378e-02,  1.55962661e-02, ...,\n",
       "        -6.22709054e-05, -1.26059498e-03, -4.13630973e-03]),\n",
       " 'v6_58': array([-0.00161739, -0.00324733, -0.0020455 , ..., -0.00656928,\n",
       "        -0.00292594, -0.00134958]),\n",
       " 'v6_59': array([-0.02569717, -0.03716111, -0.03720421, ...,  0.02942934,\n",
       "         0.02208135,  0.0066443 ]),\n",
       " 'v6_60': array([-0.00097146, -0.00865563, -0.01819017, ...,  0.00568037,\n",
       "         0.00641644,  0.00474586]),\n",
       " 'v6_61': array([ 0.00318953,  0.00209513,  0.00054636, ..., -0.00061027,\n",
       "         0.0018325 ,  0.00736051]),\n",
       " 'v6_62': array([ 0.00414427,  0.01056695,  0.01007417, ..., -0.01074762,\n",
       "        -0.01203767, -0.0079062 ]),\n",
       " 'v6_63': array([-0.00186291, -0.00243643, -0.00174313, ...,  0.00314285,\n",
       "        -0.00059461, -0.00288184]),\n",
       " 'v6_64': array([ 0.00152748, -0.00140314, -0.00412562, ...,  0.00871425,\n",
       "         0.00770128,  0.0075258 ]),\n",
       " 'v6_65': array([ 0.00410542,  0.00198772, -0.00608801, ..., -0.00174743,\n",
       "        -0.00382424, -0.00382824]),\n",
       " 'v6_66': array([-0.00026018, -0.00207262, -0.00552958, ..., -0.00694337,\n",
       "        -0.00573394, -0.00531881]),\n",
       " 'v6_67': array([0.0033285 , 0.00682227, 0.00547013, ..., 0.00732908, 0.00748384,\n",
       "        0.00888888]),\n",
       " 'v6_68': array([-0.00422242, -0.00999994, -0.01092948, ..., -0.0122858 ,\n",
       "        -0.00772527,  0.00012386]),\n",
       " 'v6_69': array([0.02333808, 0.03047764, 0.01990015, ..., 0.0088536 , 0.00697225,\n",
       "        0.0051106 ]),\n",
       " 'v6_70': array([0.00219694, 0.00016123, 0.00037189, ..., 0.02498648, 0.02354454,\n",
       "        0.01987313]),\n",
       " 'v6_71': array([ 0.00164945,  0.00012713, -0.00164155, ..., -0.00979831,\n",
       "        -0.01459751, -0.01807234]),\n",
       " 'v6_72': array([ 0.02158981,  0.02373325,  0.01226501, ..., -0.00522609,\n",
       "        -0.00709205, -0.00844232]),\n",
       " 'v6_73': array([ 0.00099798, -0.00012704, -0.00423536, ...,  0.00647762,\n",
       "         0.00599477,  0.00552168]),\n",
       " 'v6_74': array([ 0.00023215, -0.00128494, -0.00384045, ...,  0.00995974,\n",
       "         0.00039029, -0.00513032])}"
      ]
     },
     "execution_count": 6,
     "metadata": {},
     "output_type": "execute_result"
    }
   ],
   "source": [
    "converted_Ra #Like we can see"
   ]
  },
  {
   "cell_type": "code",
   "execution_count": 7,
   "id": "9d0f213b",
   "metadata": {
    "ExecuteTime": {
     "end_time": "2024-02-02T22:01:37.895877Z",
     "start_time": "2024-02-02T22:01:37.744152Z"
    }
   },
   "outputs": [
    {
     "data": {
      "image/png": "[encoded data removed]",
      "text/plain": [
       "<Figure size 640x480 with 1 Axes>"
      ]
     },
     "metadata": {},
     "output_type": "display_data"
    },
    {
     "data": {
      "image/png": "[encoded data removed]",
      "text/plain": [
       "<Figure size 640x480 with 1 Axes>"
      ]
     },
     "metadata": {},
     "output_type": "display_data"
    }
   ],
   "source": [
    "plt.plot(list(converted_Ra.values())[1])\n",
    "plt.title(f\"{list(converted_Ra.keys())[1]} Signal\")\n",
    "plt.show()\n",
    "plt.plot(list(converted_Rva.values())[1])\n",
    "plt.title(f\"{list(converted_Rva.keys())[1]} Signal\")\n",
    "plt.show()"
   ]
  },
  {
   "cell_type": "code",
   "execution_count": 8,
   "id": "dc958f7d",
   "metadata": {
    "ExecuteTime": {
     "end_time": "2024-02-02T22:01:37.903389Z",
     "start_time": "2024-02-02T22:01:37.896711Z"
    }
   },
   "outputs": [],
   "source": [
    "import scipy.signal as signal\n",
    "\n",
    "def diff_stat(Rva_array):\n",
    "    x = np.array(Rva_array)\n",
    "    locs, _ = signal.find_peaks(x, height=x.max()/2)\n",
    "    if len(locs) >= 2:\n",
    "        diff = np.diff(locs)\n",
    "        df = pd.DataFrame(data = [diff.max(), diff.min(), diff.mean(), diff.std(),\n",
    "                                  stats.kurtosis(diff), stats.skew(diff), np.quantile(diff,0.5)]).T\n",
    "        df.columns = ['max_diff', 'min_diff', 'mean_diff', 'sd_diff', 'ku_diff', 'sk_diff', 'median_diff']\n",
    "    else:\n",
    "        df = pd.DataFrame(data = [np.nan, np.nan, np.nan, np.nan, np.nan, np.nan,np.nan]).T\n",
    "        df.columns = ['max_diff', 'min_diff', 'mean_diff', 'sd_diff', 'ku_diff', 'sk_diff', 'median_diff']\n",
    "    return df, locs\n",
    "\n",
    "def seg_stat(Ra_array, locs):\n",
    "    x = np.array(Ra_array)\n",
    "    seg_df = pd.DataFrame()\n",
    "    for i in range(0,len(locs)-1):\n",
    "        seg =x[locs[i]:locs[i+1]]\n",
    "        peaks_seg,_ = signal.find_peaks(seg, height=seg.max()/2)\n",
    "        tmp_df = pd.DataFrame(data = [len(seg), seg.mean(), seg.max(), seg.min(),len(peaks_seg)]).T\n",
    "        tmp_df.columns = ['len_seg', 'mean_seg', 'max_seg', 'min_seg', 'peaks_seg']\n",
    "        seg_df = pd.concat([seg_df, tmp_df], axis=0) \n",
    "\n",
    "    df = pd.DataFrame(seg_df.mean()).T\n",
    "    return df\n",
    "    \n",
    "def ecg_stat(Ra_array):\n",
    "    # Input: An array (numpy, dataframe, list) \n",
    "    # -> Output : A pd.DataFrame\n",
    "    \n",
    "    x = np.array(Ra_array)\n",
    "    \n",
    "    df = pd.DataFrame(data = [x.max(), x.min(), np.mean(abs(x)), x.std(),\n",
    "                              stats.kurtosis(x), stats.skew(x), np.quantile(x,0.5),\n",
    "                              np.quantile(x, 0.25), np.quantile(x,0.75),\n",
    "                              np.quantile(x, 0.05), np.quantile(x, 0.95)]).T\n",
    "    df.columns = ['max_ecg', 'min_ecg', 'meanabs_ecg', 'sd_ecg', 'ku_ecg', 'sk_ecg', 'median_ecg',\n",
    "                  'q1_ecg', 'q3_ecg', 'q05_ecg', 'q95_ecg']\n",
    "    \n",
    "    return df\n",
    "\n",
    "def stat_features(Ra, Rva):\n",
    "    dic_Ra = Ra.copy()\n",
    "    dic_Rva = Rva.copy()\n",
    "    \n",
    "    names = []\n",
    "    ecg = pd.DataFrame()\n",
    "    diff = pd.DataFrame()\n",
    "    seg = pd.DataFrame()\n",
    "    for i in range(len(Ra)):\n",
    "        k = list(dic_Ra.keys())[i]\n",
    "        ra = list(dic_Ra.values())[i]\n",
    "        rva = list(dic_Rva.values())[i]\n",
    "        \n",
    "        ecg = pd.concat([ecg, ecg_stat(ra)], axis=0) \n",
    "        diff_tmp, locs_tmp = diff_stat(rva)\n",
    "        diff = pd.concat([diff, diff_tmp], axis=0) \n",
    "        seg = pd.concat([seg, seg_stat(ra, locs_tmp)], axis=0) \n",
    "        \n",
    "        df_stat = pd.concat([ecg, diff, seg], axis=1) \n",
    "        names.append(k)\n",
    "    \n",
    "    df_stat= df_stat.set_axis(names)\n",
    "    return df_stat"
   ]
  },
  {
   "cell_type": "code",
   "execution_count": 9,
   "id": "f1054e21",
   "metadata": {
    "ExecuteTime": {
     "end_time": "2024-02-02T22:01:46.614851Z",
     "start_time": "2024-02-02T22:01:46.533880Z"
    }
   },
   "outputs": [
    {
     "name": "stderr",
     "output_type": "stream",
     "text": [
      "C:\\Users\\Raffaele\\AppData\\Local\\Temp\\ipykernel_109900\\3439723613.py:9: RuntimeWarning: Precision loss occurred in moment calculation due to catastrophic cancellation. This occurs when the data are nearly identical. Results may be unreliable.\n",
      "  stats.kurtosis(diff), stats.skew(diff), np.quantile(diff,0.5)]).T\n",
      "C:\\Users\\Raffaele\\AppData\\Local\\Temp\\ipykernel_109900\\3439723613.py:9: RuntimeWarning: Precision loss occurred in moment calculation due to catastrophic cancellation. This occurs when the data are nearly identical. Results may be unreliable.\n",
      "  stats.kurtosis(diff), stats.skew(diff), np.quantile(diff,0.5)]).T\n",
      "C:\\Users\\Raffaele\\AppData\\Local\\Temp\\ipykernel_109900\\470391488.py:12: SettingWithCopyWarning: \n",
      "A value is trying to be set on a copy of a slice from a DataFrame\n",
      "\n",
      "See the caveats in the documentation: https://pandas.pydata.org/pandas-docs/stable/user_guide/indexing.html#returning-a-view-versus-a-copy\n",
      "  df['signal_num'][i] = df['index'][i].split('_')[0]\n",
      "C:\\Users\\Raffaele\\AppData\\Local\\Temp\\ipykernel_109900\\470391488.py:13: SettingWithCopyWarning: \n",
      "A value is trying to be set on a copy of a slice from a DataFrame\n",
      "\n",
      "See the caveats in the documentation: https://pandas.pydata.org/pandas-docs/stable/user_guide/indexing.html#returning-a-view-versus-a-copy\n",
      "  df['patient_num'][i] = patient_num\n",
      "C:\\Users\\Raffaele\\AppData\\Local\\Temp\\ipykernel_109900\\470391488.py:17: SettingWithCopyWarning: \n",
      "A value is trying to be set on a copy of a slice from a DataFrame\n",
      "\n",
      "See the caveats in the documentation: https://pandas.pydata.org/pandas-docs/stable/user_guide/indexing.html#returning-a-view-versus-a-copy\n",
      "  df['label'][i] = 0\n",
      "C:\\Users\\Raffaele\\AppData\\Local\\Temp\\ipykernel_109900\\470391488.py:15: SettingWithCopyWarning: \n",
      "A value is trying to be set on a copy of a slice from a DataFrame\n",
      "\n",
      "See the caveats in the documentation: https://pandas.pydata.org/pandas-docs/stable/user_guide/indexing.html#returning-a-view-versus-a-copy\n",
      "  df['label'][i] = 1\n",
      "C:\\Users\\Raffaele\\AppData\\Local\\Temp\\ipykernel_109900\\470391488.py:19: SettingWithCopyWarning: \n",
      "A value is trying to be set on a copy of a slice from a DataFrame\n",
      "\n",
      "See the caveats in the documentation: https://pandas.pydata.org/pandas-docs/stable/user_guide/indexing.html#returning-a-view-versus-a-copy\n",
      "  df['label'][i] = -1\n"
     ]
    },
    {
     "data": {
      "text/html": [
       "<div>\n",
       "<style scoped>\n",
       "    .dataframe tbody tr th:only-of-type {\n",
       "        vertical-align: middle;\n",
       "    }\n",
       "\n",
       "    .dataframe tbody tr th {\n",
       "        vertical-align: top;\n",
       "    }\n",
       "\n",
       "    .dataframe thead th {\n",
       "        text-align: right;\n",
       "    }\n",
       "</style>\n",
       "<table border=\"1\" class=\"dataframe\">\n",
       "  <thead>\n",
       "    <tr style=\"text-align: right;\">\n",
       "      <th></th>\n",
       "      <th>max_ecg</th>\n",
       "      <th>min_ecg</th>\n",
       "      <th>meanabs_ecg</th>\n",
       "      <th>sd_ecg</th>\n",
       "      <th>ku_ecg</th>\n",
       "      <th>sk_ecg</th>\n",
       "      <th>median_ecg</th>\n",
       "      <th>q1_ecg</th>\n",
       "      <th>q3_ecg</th>\n",
       "      <th>q05_ecg</th>\n",
       "      <th>...</th>\n",
       "      <th>sk_diff</th>\n",
       "      <th>median_diff</th>\n",
       "      <th>len_seg</th>\n",
       "      <th>mean_seg</th>\n",
       "      <th>max_seg</th>\n",
       "      <th>min_seg</th>\n",
       "      <th>peaks_seg</th>\n",
       "      <th>signal_num</th>\n",
       "      <th>patient_num</th>\n",
       "      <th>label</th>\n",
       "    </tr>\n",
       "  </thead>\n",
       "  <tbody>\n",
       "    <tr>\n",
       "      <th>0</th>\n",
       "      <td>0.112801</td>\n",
       "      <td>-0.176020</td>\n",
       "      <td>0.023904</td>\n",
       "      <td>0.029767</td>\n",
       "      <td>0.114096</td>\n",
       "      <td>0.115269</td>\n",
       "      <td>-0.000730</td>\n",
       "      <td>-0.021217</td>\n",
       "      <td>0.019912</td>\n",
       "      <td>-0.046272</td>\n",
       "      <td>...</td>\n",
       "      <td>0.395806</td>\n",
       "      <td>203.0</td>\n",
       "      <td>207.901408</td>\n",
       "      <td>-0.000093</td>\n",
       "      <td>0.066552</td>\n",
       "      <td>-0.062910</td>\n",
       "      <td>5.985915</td>\n",
       "      <td>v1</td>\n",
       "      <td>0.0</td>\n",
       "      <td>0.0</td>\n",
       "    </tr>\n",
       "    <tr>\n",
       "      <th>1</th>\n",
       "      <td>0.059136</td>\n",
       "      <td>-0.057175</td>\n",
       "      <td>0.012300</td>\n",
       "      <td>0.015474</td>\n",
       "      <td>-0.005221</td>\n",
       "      <td>0.049944</td>\n",
       "      <td>-0.000014</td>\n",
       "      <td>-0.010550</td>\n",
       "      <td>0.010232</td>\n",
       "      <td>-0.025227</td>\n",
       "      <td>...</td>\n",
       "      <td>-0.299730</td>\n",
       "      <td>150.5</td>\n",
       "      <td>124.091667</td>\n",
       "      <td>0.002040</td>\n",
       "      <td>0.034433</td>\n",
       "      <td>-0.027457</td>\n",
       "      <td>4.891667</td>\n",
       "      <td>v1</td>\n",
       "      <td>1.0</td>\n",
       "      <td>1.0</td>\n",
       "    </tr>\n",
       "    <tr>\n",
       "      <th>2</th>\n",
       "      <td>0.053388</td>\n",
       "      <td>-0.044402</td>\n",
       "      <td>0.010041</td>\n",
       "      <td>0.012656</td>\n",
       "      <td>0.062166</td>\n",
       "      <td>0.111068</td>\n",
       "      <td>-0.000341</td>\n",
       "      <td>-0.008456</td>\n",
       "      <td>0.008327</td>\n",
       "      <td>-0.020794</td>\n",
       "      <td>...</td>\n",
       "      <td>0.219057</td>\n",
       "      <td>96.5</td>\n",
       "      <td>94.202532</td>\n",
       "      <td>0.002004</td>\n",
       "      <td>0.024149</td>\n",
       "      <td>-0.018044</td>\n",
       "      <td>3.525316</td>\n",
       "      <td>v1</td>\n",
       "      <td>2.0</td>\n",
       "      <td>0.0</td>\n",
       "    </tr>\n",
       "    <tr>\n",
       "      <th>3</th>\n",
       "      <td>0.049817</td>\n",
       "      <td>-0.046310</td>\n",
       "      <td>0.009489</td>\n",
       "      <td>0.012080</td>\n",
       "      <td>0.173318</td>\n",
       "      <td>0.083084</td>\n",
       "      <td>-0.000172</td>\n",
       "      <td>-0.007816</td>\n",
       "      <td>0.007716</td>\n",
       "      <td>-0.019636</td>\n",
       "      <td>...</td>\n",
       "      <td>1.484075</td>\n",
       "      <td>41.0</td>\n",
       "      <td>74.457711</td>\n",
       "      <td>0.002629</td>\n",
       "      <td>0.025815</td>\n",
       "      <td>-0.017517</td>\n",
       "      <td>2.572139</td>\n",
       "      <td>v1</td>\n",
       "      <td>3.0</td>\n",
       "      <td>0.0</td>\n",
       "    </tr>\n",
       "    <tr>\n",
       "      <th>4</th>\n",
       "      <td>0.059395</td>\n",
       "      <td>-0.056222</td>\n",
       "      <td>0.010357</td>\n",
       "      <td>0.012952</td>\n",
       "      <td>0.002436</td>\n",
       "      <td>0.031496</td>\n",
       "      <td>-0.000079</td>\n",
       "      <td>-0.008907</td>\n",
       "      <td>0.008672</td>\n",
       "      <td>-0.021154</td>\n",
       "      <td>...</td>\n",
       "      <td>1.679346</td>\n",
       "      <td>256.0</td>\n",
       "      <td>267.436364</td>\n",
       "      <td>-0.000019</td>\n",
       "      <td>0.031958</td>\n",
       "      <td>-0.031994</td>\n",
       "      <td>8.981818</td>\n",
       "      <td>v1</td>\n",
       "      <td>5.0</td>\n",
       "      <td>1.0</td>\n",
       "    </tr>\n",
       "    <tr>\n",
       "      <th>...</th>\n",
       "      <td>...</td>\n",
       "      <td>...</td>\n",
       "      <td>...</td>\n",
       "      <td>...</td>\n",
       "      <td>...</td>\n",
       "      <td>...</td>\n",
       "      <td>...</td>\n",
       "      <td>...</td>\n",
       "      <td>...</td>\n",
       "      <td>...</td>\n",
       "      <td>...</td>\n",
       "      <td>...</td>\n",
       "      <td>...</td>\n",
       "      <td>...</td>\n",
       "      <td>...</td>\n",
       "      <td>...</td>\n",
       "      <td>...</td>\n",
       "      <td>...</td>\n",
       "      <td>...</td>\n",
       "      <td>...</td>\n",
       "      <td>...</td>\n",
       "    </tr>\n",
       "    <tr>\n",
       "      <th>373</th>\n",
       "      <td>0.068409</td>\n",
       "      <td>-0.092659</td>\n",
       "      <td>0.009909</td>\n",
       "      <td>0.013457</td>\n",
       "      <td>3.925464</td>\n",
       "      <td>-0.511300</td>\n",
       "      <td>0.000335</td>\n",
       "      <td>-0.007258</td>\n",
       "      <td>0.008088</td>\n",
       "      <td>-0.020356</td>\n",
       "      <td>...</td>\n",
       "      <td>0.826378</td>\n",
       "      <td>207.0</td>\n",
       "      <td>208.422535</td>\n",
       "      <td>0.000241</td>\n",
       "      <td>0.033307</td>\n",
       "      <td>-0.037750</td>\n",
       "      <td>6.619718</td>\n",
       "      <td>v6</td>\n",
       "      <td>70.0</td>\n",
       "      <td>1.0</td>\n",
       "    </tr>\n",
       "    <tr>\n",
       "      <th>374</th>\n",
       "      <td>0.102700</td>\n",
       "      <td>-0.087082</td>\n",
       "      <td>0.009492</td>\n",
       "      <td>0.013619</td>\n",
       "      <td>5.717749</td>\n",
       "      <td>-0.002892</td>\n",
       "      <td>0.000055</td>\n",
       "      <td>-0.006930</td>\n",
       "      <td>0.007030</td>\n",
       "      <td>-0.019499</td>\n",
       "      <td>...</td>\n",
       "      <td>1.268313</td>\n",
       "      <td>199.0</td>\n",
       "      <td>217.941176</td>\n",
       "      <td>0.000029</td>\n",
       "      <td>0.037241</td>\n",
       "      <td>-0.039429</td>\n",
       "      <td>4.117647</td>\n",
       "      <td>v6</td>\n",
       "      <td>71.0</td>\n",
       "      <td>1.0</td>\n",
       "    </tr>\n",
       "    <tr>\n",
       "      <th>375</th>\n",
       "      <td>0.120183</td>\n",
       "      <td>-0.073214</td>\n",
       "      <td>0.014416</td>\n",
       "      <td>0.018849</td>\n",
       "      <td>1.342055</td>\n",
       "      <td>0.425637</td>\n",
       "      <td>-0.000759</td>\n",
       "      <td>-0.011676</td>\n",
       "      <td>0.011178</td>\n",
       "      <td>-0.029374</td>\n",
       "      <td>...</td>\n",
       "      <td>0.169275</td>\n",
       "      <td>159.0</td>\n",
       "      <td>157.797872</td>\n",
       "      <td>0.000255</td>\n",
       "      <td>0.050188</td>\n",
       "      <td>-0.038830</td>\n",
       "      <td>3.085106</td>\n",
       "      <td>v6</td>\n",
       "      <td>72.0</td>\n",
       "      <td>0.0</td>\n",
       "    </tr>\n",
       "    <tr>\n",
       "      <th>376</th>\n",
       "      <td>0.035760</td>\n",
       "      <td>-0.058107</td>\n",
       "      <td>0.006360</td>\n",
       "      <td>0.008318</td>\n",
       "      <td>1.936873</td>\n",
       "      <td>-0.231161</td>\n",
       "      <td>-0.000133</td>\n",
       "      <td>-0.005190</td>\n",
       "      <td>0.005185</td>\n",
       "      <td>-0.012958</td>\n",
       "      <td>...</td>\n",
       "      <td>2.500485</td>\n",
       "      <td>232.0</td>\n",
       "      <td>269.236364</td>\n",
       "      <td>-0.000124</td>\n",
       "      <td>0.021456</td>\n",
       "      <td>-0.024912</td>\n",
       "      <td>6.436364</td>\n",
       "      <td>v6</td>\n",
       "      <td>73.0</td>\n",
       "      <td>0.0</td>\n",
       "    </tr>\n",
       "    <tr>\n",
       "      <th>377</th>\n",
       "      <td>0.072845</td>\n",
       "      <td>-0.094778</td>\n",
       "      <td>0.009604</td>\n",
       "      <td>0.013332</td>\n",
       "      <td>4.161181</td>\n",
       "      <td>-0.165961</td>\n",
       "      <td>0.000413</td>\n",
       "      <td>-0.007126</td>\n",
       "      <td>0.007474</td>\n",
       "      <td>-0.020316</td>\n",
       "      <td>...</td>\n",
       "      <td>0.230470</td>\n",
       "      <td>299.5</td>\n",
       "      <td>320.195652</td>\n",
       "      <td>0.000047</td>\n",
       "      <td>0.039842</td>\n",
       "      <td>-0.040596</td>\n",
       "      <td>6.065217</td>\n",
       "      <td>v6</td>\n",
       "      <td>74.0</td>\n",
       "      <td>1.0</td>\n",
       "    </tr>\n",
       "  </tbody>\n",
       "</table>\n",
       "<p>368 rows × 26 columns</p>\n",
       "</div>"
      ],
      "text/plain": [
       "      max_ecg   min_ecg  meanabs_ecg    sd_ecg    ku_ecg    sk_ecg  \\\n",
       "0    0.112801 -0.176020     0.023904  0.029767  0.114096  0.115269   \n",
       "1    0.059136 -0.057175     0.012300  0.015474 -0.005221  0.049944   \n",
       "2    0.053388 -0.044402     0.010041  0.012656  0.062166  0.111068   \n",
       "3    0.049817 -0.046310     0.009489  0.012080  0.173318  0.083084   \n",
       "4    0.059395 -0.056222     0.010357  0.012952  0.002436  0.031496   \n",
       "..        ...       ...          ...       ...       ...       ...   \n",
       "373  0.068409 -0.092659     0.009909  0.013457  3.925464 -0.511300   \n",
       "374  0.102700 -0.087082     0.009492  0.013619  5.717749 -0.002892   \n",
       "375  0.120183 -0.073214     0.014416  0.018849  1.342055  0.425637   \n",
       "376  0.035760 -0.058107     0.006360  0.008318  1.936873 -0.231161   \n",
       "377  0.072845 -0.094778     0.009604  0.013332  4.161181 -0.165961   \n",
       "\n",
       "     median_ecg    q1_ecg    q3_ecg   q05_ecg  ...   sk_diff  median_diff  \\\n",
       "0     -0.000730 -0.021217  0.019912 -0.046272  ...  0.395806        203.0   \n",
       "1     -0.000014 -0.010550  0.010232 -0.025227  ... -0.299730        150.5   \n",
       "2     -0.000341 -0.008456  0.008327 -0.020794  ...  0.219057         96.5   \n",
       "3     -0.000172 -0.007816  0.007716 -0.019636  ...  1.484075         41.0   \n",
       "4     -0.000079 -0.008907  0.008672 -0.021154  ...  1.679346        256.0   \n",
       "..          ...       ...       ...       ...  ...       ...          ...   \n",
       "373    0.000335 -0.007258  0.008088 -0.020356  ...  0.826378        207.0   \n",
       "374    0.000055 -0.006930  0.007030 -0.019499  ...  1.268313        199.0   \n",
       "375   -0.000759 -0.011676  0.011178 -0.029374  ...  0.169275        159.0   \n",
       "376   -0.000133 -0.005190  0.005185 -0.012958  ...  2.500485        232.0   \n",
       "377    0.000413 -0.007126  0.007474 -0.020316  ...  0.230470        299.5   \n",
       "\n",
       "        len_seg  mean_seg   max_seg   min_seg  peaks_seg  signal_num  \\\n",
       "0    207.901408 -0.000093  0.066552 -0.062910   5.985915          v1   \n",
       "1    124.091667  0.002040  0.034433 -0.027457   4.891667          v1   \n",
       "2     94.202532  0.002004  0.024149 -0.018044   3.525316          v1   \n",
       "3     74.457711  0.002629  0.025815 -0.017517   2.572139          v1   \n",
       "4    267.436364 -0.000019  0.031958 -0.031994   8.981818          v1   \n",
       "..          ...       ...       ...       ...        ...         ...   \n",
       "373  208.422535  0.000241  0.033307 -0.037750   6.619718          v6   \n",
       "374  217.941176  0.000029  0.037241 -0.039429   4.117647          v6   \n",
       "375  157.797872  0.000255  0.050188 -0.038830   3.085106          v6   \n",
       "376  269.236364 -0.000124  0.021456 -0.024912   6.436364          v6   \n",
       "377  320.195652  0.000047  0.039842 -0.040596   6.065217          v6   \n",
       "\n",
       "     patient_num  label  \n",
       "0            0.0    0.0  \n",
       "1            1.0    1.0  \n",
       "2            2.0    0.0  \n",
       "3            3.0    0.0  \n",
       "4            5.0    1.0  \n",
       "..           ...    ...  \n",
       "373         70.0    1.0  \n",
       "374         71.0    1.0  \n",
       "375         72.0    0.0  \n",
       "376         73.0    0.0  \n",
       "377         74.0    1.0  \n",
       "\n",
       "[368 rows x 26 columns]"
      ]
     },
     "execution_count": 9,
     "metadata": {},
     "output_type": "execute_result"
    }
   ],
   "source": [
    "df_stat = stat_features(converted_Ra, converted_Rva)\n",
    "\n",
    "# add the label in the dataframe\n",
    "df = df_stat.copy()\n",
    "df = df.reset_index() \n",
    "\n",
    "df[\"signal_num\"] = np.nan\n",
    "df[\"patient_num\"] = np.nan\n",
    "df[\"label\"] = np.nan\n",
    "for i in range(len(df)):\n",
    "    patient_num = int(df['index'][i].split('_')[-1])\n",
    "    df['signal_num'][i] = df['index'][i].split('_')[0]\n",
    "    df['patient_num'][i] = patient_num\n",
    "    if patient_num in recur:\n",
    "        df['label'][i] = 1\n",
    "    elif patient_num in no_recur:\n",
    "        df['label'][i] = 0\n",
    "    else :\n",
    "        df['label'][i] = -1\n",
    "\n",
    "df = df.drop('index',axis=1)\n",
    "\n",
    "df = df[df['label'] != -1] # label\n",
    "\n",
    "\n",
    "df = df.reset_index().drop('index',axis=1)\n",
    "df = df.dropna() \n",
    "df"
   ]
  },
  {
   "cell_type": "markdown",
   "id": "3c61c8c1",
   "metadata": {},
   "source": [
    "--------------------------------------------------------------------------------------------------------------------------------\n",
    "## MACHINE LEARNING MODELS\n",
    "--------------------------------------------------------------------------------------------------------------------------------"
   ]
  },
  {
   "cell_type": "code",
   "execution_count": 10,
   "id": "d0743a51",
   "metadata": {
    "ExecuteTime": {
     "end_time": "2024-02-02T22:01:46.620554Z",
     "start_time": "2024-02-02T22:01:46.617653Z"
    }
   },
   "outputs": [
    {
     "name": "stdout",
     "output_type": "stream",
     "text": [
      "train shape: (276, 23) (276,)\n",
      "test shape: (92, 23) (92,)\n"
     ]
    }
   ],
   "source": [
    "X = df.drop(['label','patient_num','signal_num'], axis=1)\n",
    "y = df['label']\n",
    "\n",
    "# Split data into training and testing sets (I'm going to use 25% for testing and 75 for training)\n",
    "X_train, X_test, y_train, y_test = train_test_split(X, y, test_size=0.25, random_state=42)\n",
    "\n",
    "print(\"train shape:\", X_train.shape, y_train.shape)\n",
    "print(\"test shape:\", X_test.shape, y_test.shape)"
   ]
  },
  {
   "cell_type": "markdown",
   "id": "6533a957",
   "metadata": {},
   "source": [
    "--------------------------------------------------------------------------------------------------------------------------------\n",
    "### SVM\n",
    "--------------------------------------------------------------------------------------------------------------------------------"
   ]
  },
  {
   "cell_type": "code",
   "execution_count": 11,
   "id": "f4202ed2",
   "metadata": {
    "ExecuteTime": {
     "end_time": "2024-02-02T22:01:52.629850Z",
     "start_time": "2024-02-02T22:01:46.621445Z"
    }
   },
   "outputs": [
    {
     "name": "stdout",
     "output_type": "stream",
     "text": [
      "Accuracy: 0.5108695652173914\n",
      "              precision    recall  f1-score   support\n",
      "\n",
      "         0.0       0.57      0.42      0.48        50\n",
      "         1.0       0.47      0.62      0.54        42\n",
      "\n",
      "    accuracy                           0.51        92\n",
      "   macro avg       0.52      0.52      0.51        92\n",
      "weighted avg       0.52      0.51      0.51        92\n",
      "\n"
     ]
    },
    {
     "data": {
      "text/plain": [
       "<sklearn.metrics._plot.confusion_matrix.ConfusionMatrixDisplay at 0x1d470632910>"
      ]
     },
     "execution_count": 11,
     "metadata": {},
     "output_type": "execute_result"
    },
    {
     "data": {
      "image/png": "[encoded data removed]",
      "text/plain": [
       "<Figure size 640x480 with 2 Axes>"
      ]
     },
     "metadata": {},
     "output_type": "display_data"
    }
   ],
   "source": [
    "\n",
    "svm_classifier = SVC(kernel='linear')  #linear kernel\n",
    "\n",
    "# Fit the classifier on the training data\n",
    "svm_classifier.fit(X_train, y_train)\n",
    "\n",
    "# Predict\n",
    "y_pred = svm_classifier.predict(X_test)\n",
    "\n",
    "# Evaluate performance\n",
    "accuracy = accuracy_score(y_test, y_pred)\n",
    "print(\"Accuracy:\", accuracy)\n",
    "\n",
    "print(classification_report(y_test, y_pred))\n",
    "ConfusionMatrixDisplay.from_estimator(\n",
    "    svm_classifier, X_test, y_test, xticks_rotation=\"vertical\"\n",
    ")"
   ]
  },
  {
   "cell_type": "markdown",
   "id": "d4856a16",
   "metadata": {},
   "source": [
    "--------------------------------------------------------------------------------------------------------------------------------\n",
    "### Gradient Boosting Classifier\n",
    "--------------------------------------------------------------------------------------------------------------------------------"
   ]
  },
  {
   "cell_type": "code",
   "execution_count": 12,
   "id": "a925d998",
   "metadata": {
    "ExecuteTime": {
     "end_time": "2024-02-02T22:01:52.902823Z",
     "start_time": "2024-02-02T22:01:52.630602Z"
    }
   },
   "outputs": [
    {
     "name": "stdout",
     "output_type": "stream",
     "text": [
      "Accuracy: 0.7282608695652174\n",
      "              precision    recall  f1-score   support\n",
      "\n",
      "         0.0       0.82      0.64      0.72        50\n",
      "         1.0       0.66      0.83      0.74        42\n",
      "\n",
      "    accuracy                           0.73        92\n",
      "   macro avg       0.74      0.74      0.73        92\n",
      "weighted avg       0.75      0.73      0.73        92\n",
      "\n"
     ]
    },
    {
     "data": {
      "text/plain": [
       "<sklearn.metrics._plot.confusion_matrix.ConfusionMatrixDisplay at 0x1d4633c2010>"
      ]
     },
     "execution_count": 12,
     "metadata": {},
     "output_type": "execute_result"
    },
    {
     "data": {
      "image/png": "[encoded data removed]",
      "text/plain": [
       "<Figure size 640x480 with 2 Axes>"
      ]
     },
     "metadata": {},
     "output_type": "display_data"
    }
   ],
   "source": [
    "gbc = GradientBoostingClassifier()\n",
    "\n",
    "gbc.fit(X_train, y_train)\n",
    "\n",
    "# Predict \n",
    "y_pred = gbc.predict(X_test)\n",
    "\n",
    "# Evaluate performance\n",
    "accuracy = accuracy_score(y_test, y_pred)\n",
    "print(\"Accuracy:\", accuracy)\n",
    "\n",
    "print(classification_report(y_test, y_pred))\n",
    "\n",
    "ConfusionMatrixDisplay.from_estimator(\n",
    "    gbc, X_test, y_test, xticks_rotation=\"vertical\"\n",
    ")\n"
   ]
  },
  {
   "cell_type": "markdown",
   "id": "a11e0da9",
   "metadata": {},
   "source": [
    "--------------------------------------------------------------------------------------------------------------------------------\n",
    "### XGBoost\n",
    "--------------------------------------------------------------------------------------------------------------------------------"
   ]
  },
  {
   "cell_type": "code",
   "execution_count": 13,
   "id": "594b4959",
   "metadata": {
    "ExecuteTime": {
     "end_time": "2024-02-02T22:01:53.101931Z",
     "start_time": "2024-02-02T22:01:52.903550Z"
    }
   },
   "outputs": [
    {
     "name": "stdout",
     "output_type": "stream",
     "text": [
      "Accuracy: 0.7391304347826086\n",
      "              precision    recall  f1-score   support\n",
      "\n",
      "         0.0       0.82      0.66      0.73        50\n",
      "         1.0       0.67      0.83      0.74        42\n",
      "\n",
      "    accuracy                           0.74        92\n",
      "   macro avg       0.75      0.75      0.74        92\n",
      "weighted avg       0.76      0.74      0.74        92\n",
      "\n"
     ]
    },
    {
     "data": {
      "text/plain": [
       "<sklearn.metrics._plot.confusion_matrix.ConfusionMatrixDisplay at 0x1d470731550>"
      ]
     },
     "execution_count": 13,
     "metadata": {},
     "output_type": "execute_result"
    },
    {
     "data": {
      "image/png": "[encoded data removed]",
      "text/plain": [
       "<Figure size 640x480 with 2 Axes>"
      ]
     },
     "metadata": {},
     "output_type": "display_data"
    }
   ],
   "source": [
    "xgb = XGBClassifier()\n",
    "\n",
    "xgb.fit(X_train, y_train)\n",
    "\n",
    "# Predict \n",
    "y_pred = xgb.predict(X_test)\n",
    "\n",
    "# Evaluate performance\n",
    "accuracy = accuracy_score(y_test, y_pred)\n",
    "print(\"Accuracy:\", accuracy)\n",
    "\n",
    "print(classification_report(y_test, y_pred))\n",
    "\n",
    "ConfusionMatrixDisplay.from_estimator(\n",
    "    xgb, X_test, y_test, xticks_rotation=\"vertical\"\n",
    ")"
   ]
  },
  {
   "cell_type": "markdown",
   "id": "34aa5b4d",
   "metadata": {},
   "source": [
    "--------------------------------------------------------------------------------------------------------------------------------\n",
    "### Random Forest\n",
    "--------------------------------------------------------------------------------------------------------------------------------"
   ]
  },
  {
   "cell_type": "code",
   "execution_count": 14,
   "id": "8cb53b80",
   "metadata": {
    "ExecuteTime": {
     "end_time": "2024-02-02T22:01:53.250818Z",
     "start_time": "2024-02-02T22:01:53.103252Z"
    },
    "scrolled": true
   },
   "outputs": [
    {
     "name": "stdout",
     "output_type": "stream",
     "text": [
      "Accuracy: 0.7717391304347826\n",
      "              precision    recall  f1-score   support\n",
      "\n",
      "         0.0       0.87      0.68      0.76        50\n",
      "         1.0       0.70      0.88      0.78        42\n",
      "\n",
      "    accuracy                           0.77        92\n",
      "   macro avg       0.78      0.78      0.77        92\n",
      "weighted avg       0.79      0.77      0.77        92\n",
      "\n"
     ]
    },
    {
     "data": {
      "text/plain": [
       "<sklearn.metrics._plot.confusion_matrix.ConfusionMatrixDisplay at 0x1d47069e1d0>"
      ]
     },
     "execution_count": 14,
     "metadata": {},
     "output_type": "execute_result"
    },
    {
     "data": {
      "image/png": "[encoded data removed]",
      "text/plain": [
       "<Figure size 640x480 with 2 Axes>"
      ]
     },
     "metadata": {},
     "output_type": "display_data"
    }
   ],
   "source": [
    "from sklearn.ensemble import RandomForestClassifier\n",
    "\n",
    "rfc = RandomForestClassifier()\n",
    "\n",
    "rfc.fit(X_train, y_train)\n",
    "\n",
    "# Predict\n",
    "y_pred = rfc.predict(X_test)\n",
    "\n",
    "# Evaluate performance\n",
    "accuracy = accuracy_score(y_test, y_pred)\n",
    "print(\"Accuracy:\", accuracy)\n",
    "\n",
    "print(classification_report(y_test, y_pred))\n",
    "\n",
    "ConfusionMatrixDisplay.from_estimator(\n",
    "    rfc, X_test, y_test, xticks_rotation=\"vertical\"\n",
    ")\n",
    "\n"
   ]
  },
  {
   "cell_type": "markdown",
   "id": "5890a109",
   "metadata": {},
   "source": [
    "--------------------------------------------------------------------------------------------------------------------------------\n",
    "#### Logistic Regression\n",
    "--------------------------------------------------------------------------------------------------------------------------------"
   ]
  },
  {
   "cell_type": "code",
   "execution_count": 15,
   "id": "6416f7f0",
   "metadata": {},
   "outputs": [
    {
     "name": "stdout",
     "output_type": "stream",
     "text": [
      "Accuracy: 0.5543478260869565\n",
      "Classification Report:\n"
     ]
    },
    {
     "name": "stderr",
     "output_type": "stream",
     "text": [
      "C:\\Users\\Raffaele\\anaconda3\\Lib\\site-packages\\sklearn\\linear_model\\_logistic.py:460: ConvergenceWarning: lbfgs failed to converge (status=1):\n",
      "STOP: TOTAL NO. of ITERATIONS REACHED LIMIT.\n",
      "\n",
      "Increase the number of iterations (max_iter) or scale the data as shown in:\n",
      "    https://scikit-learn.org/stable/modules/preprocessing.html\n",
      "Please also refer to the documentation for alternative solver options:\n",
      "    https://scikit-learn.org/stable/modules/linear_model.html#logistic-regression\n",
      "  n_iter_i = _check_optimize_result(\n"
     ]
    },
    {
     "data": {
      "text/plain": [
       "<sklearn.metrics._plot.confusion_matrix.ConfusionMatrixDisplay at 0x1d470714310>"
      ]
     },
     "execution_count": 15,
     "metadata": {},
     "output_type": "execute_result"
    },
    {
     "data": {
      "image/png": "[encoded data removed]",
      "text/plain": [
       "<Figure size 640x480 with 2 Axes>"
      ]
     },
     "metadata": {},
     "output_type": "display_data"
    }
   ],
   "source": [
    "log_reg = LogisticRegression()\n",
    "\n",
    "# Train the model on the training data\n",
    "log_reg.fit(X_train, y_train)\n",
    "\n",
    "# Make predictions on the testing data\n",
    "y_pred = log_reg.predict(X_test)\n",
    "\n",
    "# Evaluate the model\n",
    "accuracy = accuracy_score(y_test, y_pred)\n",
    "print(\"Accuracy:\", accuracy)\n",
    "\n",
    "# Print classification report\n",
    "print(\"Classification Report:\")\n",
    "\n",
    "ConfusionMatrixDisplay.from_estimator(\n",
    "    log_reg, X_test, y_test, xticks_rotation=\"vertical\"\n",
    ")"
   ]
  },
  {
   "cell_type": "markdown",
   "id": "c1885030",
   "metadata": {},
   "source": [
    "--------------------------------------------------------------------------------------------------------------------------------\n",
    "#### Decision Trees\n",
    "--------------------------------------------------------------------------------------------------------------------------------"
   ]
  },
  {
   "cell_type": "code",
   "execution_count": 16,
   "id": "4180da3b",
   "metadata": {},
   "outputs": [
    {
     "name": "stdout",
     "output_type": "stream",
     "text": [
      "Accuracy: 0.6630434782608695\n"
     ]
    },
    {
     "data": {
      "text/plain": [
       "<sklearn.metrics._plot.confusion_matrix.ConfusionMatrixDisplay at 0x1d473f5dcd0>"
      ]
     },
     "execution_count": 16,
     "metadata": {},
     "output_type": "execute_result"
    },
    {
     "data": {
      "image/png": "[encoded data removed]",
      "text/plain": [
       "<Figure size 640x480 with 2 Axes>"
      ]
     },
     "metadata": {},
     "output_type": "display_data"
    }
   ],
   "source": [
    "tree_clf = DecisionTreeClassifier(random_state=42)\n",
    "\n",
    "# Train the classifier on the training data\n",
    "tree_clf.fit(X_train, y_train)\n",
    "\n",
    "# Make predictions on the testing data\n",
    "y_pred = tree_clf.predict(X_test)\n",
    "\n",
    "# Evaluate the model\n",
    "accuracy = accuracy_score(y_test, y_pred)\n",
    "print(\"Accuracy:\", accuracy)\n",
    "\n",
    "ConfusionMatrixDisplay.from_estimator(\n",
    "    tree_clf, X_test, y_test, xticks_rotation=\"vertical\"\n",
    ")"
   ]
  },
  {
   "cell_type": "markdown",
   "id": "9c4394d0",
   "metadata": {},
   "source": [
    "--------------------------------------------------------------------------------------------------------------------------------\n",
    "#### Naive Bayes\n",
    "--------------------------------------------------------------------------------------------------------------------------------"
   ]
  },
  {
   "cell_type": "code",
   "execution_count": 17,
   "id": "d80fd6e1",
   "metadata": {},
   "outputs": [
    {
     "name": "stdout",
     "output_type": "stream",
     "text": [
      "Accuracy: 0.5434782608695652\n"
     ]
    },
    {
     "data": {
      "text/plain": [
       "<sklearn.metrics._plot.confusion_matrix.ConfusionMatrixDisplay at 0x1d4729b6b90>"
      ]
     },
     "execution_count": 17,
     "metadata": {},
     "output_type": "execute_result"
    },
    {
     "data": {
      "image/png": "[encoded data removed]",
      "text/plain": [
       "<Figure size 640x480 with 2 Axes>"
      ]
     },
     "metadata": {},
     "output_type": "display_data"
    }
   ],
   "source": [
    "nb_clf = GaussianNB()\n",
    "\n",
    "# Train\n",
    "nb_clf.fit(X_train, y_train)\n",
    "\n",
    "# Make \n",
    "y_pred = nb_clf.predict(X_test)\n",
    "\n",
    "# Evaluate the model\n",
    "accuracy = accuracy_score(y_test, y_pred)\n",
    "print(\"Accuracy:\", accuracy)\n",
    "\n",
    "ConfusionMatrixDisplay.from_estimator(\n",
    "    nb_clf, X_test, y_test, xticks_rotation=\"vertical\"\n",
    ")"
   ]
  },
  {
   "cell_type": "markdown",
   "id": "66f846a0",
   "metadata": {},
   "source": [
    "--------------------------------------------------------------------------------------------------------------------------------\n",
    "### Neural Networks\n",
    "--------------------------------------------------------------------------------------------------------------------------------"
   ]
  },
  {
   "cell_type": "code",
   "execution_count": 18,
   "id": "29f83fd4",
   "metadata": {},
   "outputs": [
    {
     "name": "stdout",
     "output_type": "stream",
     "text": [
      "WARNING:tensorflow:From C:\\Users\\Raffaele\\anaconda3\\Lib\\site-packages\\keras\\src\\backend.py:873: The name tf.get_default_graph is deprecated. Please use tf.compat.v1.get_default_graph instead.\n",
      "\n",
      "WARNING:tensorflow:From C:\\Users\\Raffaele\\anaconda3\\Lib\\site-packages\\keras\\src\\optimizers\\__init__.py:309: The name tf.train.Optimizer is deprecated. Please use tf.compat.v1.train.Optimizer instead.\n",
      "\n",
      "Epoch 1/50\n",
      "WARNING:tensorflow:From C:\\Users\\Raffaele\\anaconda3\\Lib\\site-packages\\keras\\src\\utils\\tf_utils.py:492: The name tf.ragged.RaggedTensorValue is deprecated. Please use tf.compat.v1.ragged.RaggedTensorValue instead.\n",
      "\n",
      "WARNING:tensorflow:From C:\\Users\\Raffaele\\anaconda3\\Lib\\site-packages\\keras\\src\\engine\\base_layer_utils.py:384: The name tf.executing_eagerly_outside_functions is deprecated. Please use tf.compat.v1.executing_eagerly_outside_functions instead.\n",
      "\n",
      "7/7 [==============================] - 2s 5ms/step - loss: 112.8229 - accuracy: 0.4409\n",
      "Epoch 2/50\n",
      "7/7 [==============================] - 0s 4ms/step - loss: 90.0025 - accuracy: 0.4409\n",
      "Epoch 3/50\n",
      "7/7 [==============================] - 0s 4ms/step - loss: 67.7309 - accuracy: 0.4409\n",
      "Epoch 4/50\n",
      "7/7 [==============================] - 0s 5ms/step - loss: 45.8767 - accuracy: 0.4364\n",
      "Epoch 5/50\n",
      "7/7 [==============================] - 0s 6ms/step - loss: 33.4655 - accuracy: 0.4318\n",
      "Epoch 6/50\n",
      "7/7 [==============================] - 0s 6ms/step - loss: 29.1119 - accuracy: 0.4318\n",
      "Epoch 7/50\n",
      "7/7 [==============================] - 0s 7ms/step - loss: 25.5961 - accuracy: 0.4182\n",
      "Epoch 8/50\n",
      "7/7 [==============================] - 0s 6ms/step - loss: 22.4999 - accuracy: 0.4409\n",
      "Epoch 9/50\n",
      "7/7 [==============================] - 0s 4ms/step - loss: 21.5548 - accuracy: 0.5000\n",
      "Epoch 10/50\n",
      "7/7 [==============================] - 0s 4ms/step - loss: 20.3599 - accuracy: 0.4909\n",
      "Epoch 11/50\n",
      "7/7 [==============================] - 0s 5ms/step - loss: 18.6793 - accuracy: 0.4500\n",
      "Epoch 12/50\n",
      "7/7 [==============================] - 0s 6ms/step - loss: 17.2588 - accuracy: 0.4409\n",
      "Epoch 13/50\n",
      "7/7 [==============================] - 0s 5ms/step - loss: 15.9142 - accuracy: 0.4591\n",
      "Epoch 14/50\n",
      "7/7 [==============================] - 0s 6ms/step - loss: 14.4490 - accuracy: 0.4591\n",
      "Epoch 15/50\n",
      "7/7 [==============================] - 0s 5ms/step - loss: 13.0820 - accuracy: 0.4545\n",
      "Epoch 16/50\n",
      "7/7 [==============================] - 0s 5ms/step - loss: 11.6201 - accuracy: 0.4591\n",
      "Epoch 17/50\n",
      "7/7 [==============================] - 0s 5ms/step - loss: 10.2935 - accuracy: 0.4545\n",
      "Epoch 18/50\n",
      "7/7 [==============================] - 0s 5ms/step - loss: 8.9455 - accuracy: 0.4727\n",
      "Epoch 19/50\n",
      "7/7 [==============================] - 0s 5ms/step - loss: 7.7587 - accuracy: 0.4682\n",
      "Epoch 20/50\n",
      "7/7 [==============================] - 0s 5ms/step - loss: 6.6329 - accuracy: 0.4591\n",
      "Epoch 21/50\n",
      "7/7 [==============================] - 0s 4ms/step - loss: 5.7860 - accuracy: 0.4636\n",
      "Epoch 22/50\n",
      "7/7 [==============================] - 0s 6ms/step - loss: 5.3117 - accuracy: 0.4682\n",
      "Epoch 23/50\n",
      "7/7 [==============================] - 0s 5ms/step - loss: 4.9196 - accuracy: 0.4545\n",
      "Epoch 24/50\n",
      "7/7 [==============================] - 0s 5ms/step - loss: 4.6339 - accuracy: 0.4409\n",
      "Epoch 25/50\n",
      "7/7 [==============================] - 0s 5ms/step - loss: 4.3327 - accuracy: 0.4727\n",
      "Epoch 26/50\n",
      "7/7 [==============================] - 0s 5ms/step - loss: 4.0218 - accuracy: 0.4818\n",
      "Epoch 27/50\n",
      "7/7 [==============================] - 0s 6ms/step - loss: 3.8299 - accuracy: 0.4955\n",
      "Epoch 28/50\n",
      "7/7 [==============================] - 0s 9ms/step - loss: 3.5791 - accuracy: 0.5000\n",
      "Epoch 29/50\n",
      "7/7 [==============================] - 0s 15ms/step - loss: 3.3848 - accuracy: 0.5045\n",
      "Epoch 30/50\n",
      "7/7 [==============================] - 0s 5ms/step - loss: 3.2272 - accuracy: 0.4909\n",
      "Epoch 31/50\n",
      "7/7 [==============================] - 0s 5ms/step - loss: 3.0461 - accuracy: 0.5318\n",
      "Epoch 32/50\n",
      "7/7 [==============================] - 0s 5ms/step - loss: 2.9934 - accuracy: 0.5409\n",
      "Epoch 33/50\n",
      "7/7 [==============================] - 0s 5ms/step - loss: 2.8403 - accuracy: 0.5364\n",
      "Epoch 34/50\n",
      "7/7 [==============================] - 0s 5ms/step - loss: 2.7125 - accuracy: 0.5364\n",
      "Epoch 35/50\n",
      "7/7 [==============================] - 0s 5ms/step - loss: 2.6507 - accuracy: 0.5318\n",
      "Epoch 36/50\n",
      "7/7 [==============================] - 0s 4ms/step - loss: 2.5663 - accuracy: 0.5500\n",
      "Epoch 37/50\n",
      "7/7 [==============================] - 0s 4ms/step - loss: 2.4443 - accuracy: 0.5409\n",
      "Epoch 38/50\n",
      "7/7 [==============================] - 0s 4ms/step - loss: 2.3520 - accuracy: 0.5500\n",
      "Epoch 39/50\n",
      "7/7 [==============================] - 0s 4ms/step - loss: 2.2755 - accuracy: 0.5409\n",
      "Epoch 40/50\n",
      "7/7 [==============================] - 0s 5ms/step - loss: 2.1737 - accuracy: 0.5364\n",
      "Epoch 41/50\n",
      "7/7 [==============================] - 0s 5ms/step - loss: 2.0975 - accuracy: 0.5500\n",
      "Epoch 42/50\n",
      "7/7 [==============================] - 0s 5ms/step - loss: 2.0123 - accuracy: 0.5455\n",
      "Epoch 43/50\n",
      "7/7 [==============================] - 0s 5ms/step - loss: 1.9677 - accuracy: 0.5455\n",
      "Epoch 44/50\n",
      "7/7 [==============================] - 0s 5ms/step - loss: 1.9390 - accuracy: 0.5545\n",
      "Epoch 45/50\n",
      "7/7 [==============================] - 0s 5ms/step - loss: 1.8254 - accuracy: 0.5409\n",
      "Epoch 46/50\n",
      "7/7 [==============================] - 0s 5ms/step - loss: 1.7334 - accuracy: 0.5182\n",
      "Epoch 47/50\n",
      "7/7 [==============================] - 0s 4ms/step - loss: 1.6642 - accuracy: 0.5227\n",
      "Epoch 48/50\n",
      "7/7 [==============================] - 0s 5ms/step - loss: 1.6028 - accuracy: 0.5545\n",
      "Epoch 49/50\n",
      "7/7 [==============================] - 0s 4ms/step - loss: 1.5701 - accuracy: 0.5455\n",
      "Epoch 50/50\n",
      "7/7 [==============================] - 0s 6ms/step - loss: 1.5278 - accuracy: 0.5682\n",
      "2/2 [==============================] - 0s 6ms/step\n",
      "Accuracy: 0.6071428571428571\n"
     ]
    }
   ],
   "source": [
    "# One-hot encode the target variable\n",
    "encoder = OneHotEncoder(categories='auto')\n",
    "y_onehot = encoder.fit_transform(np.array(y_train).reshape(-1, 1)).toarray()\n",
    "\n",
    "# Split the data into training and testing sets\n",
    "X_train_NN, X_test_NN, y_train_NN, y_test_NN = train_test_split(X_train, y_onehot, test_size=0.5, random_state=42)\n",
    "\n",
    "# Define the neural network architecture\n",
    "model = tf.keras.Sequential([\n",
    "    tf.keras.layers.Dense(10, activation='relu', input_shape=(X_train_NN.shape[1],)),\n",
    "    tf.keras.layers.Dense(2, activation='softmax')\n",
    "])\n",
    "\n",
    "# Compile the model\n",
    "model.compile(optimizer='adam', loss='categorical_crossentropy', metrics=['accuracy'])\n",
    "\n",
    "# Train the model\n",
    "model.fit(X_train_NN, y_train_NN, epochs=50, batch_size=32, verbose=1)\n",
    "\n",
    "# Make predictions on the testing data\n",
    "y_pred = model.predict(X_test_NN)\n",
    "y_pred_classes = tf.argmax(y_pred, axis=1)\n",
    "\n",
    "# Evaluate the model\n",
    "accuracy = accuracy_score(tf.argmax(y_test_NN, axis=1), y_pred_classes)\n",
    "print(\"Accuracy:\", accuracy)"
   ]
  },
  {
   "cell_type": "markdown",
   "id": "0a62b38e",
   "metadata": {},
   "source": [
    "--------------------------------------------------------------------------------------------------------------------------------\n",
    "#### Ada Boost Classifier\n",
    "--------------------------------------------------------------------------------------------------------------------------------"
   ]
  },
  {
   "cell_type": "code",
   "execution_count": 19,
   "id": "b0eb27ab",
   "metadata": {},
   "outputs": [
    {
     "name": "stdout",
     "output_type": "stream",
     "text": [
      "Accuracy: 0.6739130434782609\n"
     ]
    },
    {
     "data": {
      "text/plain": [
       "<sklearn.metrics._plot.confusion_matrix.ConfusionMatrixDisplay at 0x1d472a57ad0>"
      ]
     },
     "execution_count": 19,
     "metadata": {},
     "output_type": "execute_result"
    },
    {
     "data": {
      "image/png": "[encoded data removed]",
      "text/plain": [
       "<Figure size 640x480 with 2 Axes>"
      ]
     },
     "metadata": {},
     "output_type": "display_data"
    }
   ],
   "source": [
    "adaboost_clf = AdaBoostClassifier(n_estimators=50, random_state=42)\n",
    "\n",
    "# Train \n",
    "adaboost_clf.fit(X_train, y_train)\n",
    "\n",
    "# Make predictions \n",
    "y_pred = adaboost_clf.predict(X_test)\n",
    "\n",
    "# Calculate accuracy\n",
    "accuracy = accuracy_score(y_test, y_pred)\n",
    "print(\"Accuracy:\", accuracy)\n",
    "\n",
    "ConfusionMatrixDisplay.from_estimator(\n",
    "    adaboost_clf, X_test, y_test, xticks_rotation=\"vertical\"\n",
    ")"
   ]
  },
  {
   "cell_type": "markdown",
   "id": "170e8699",
   "metadata": {},
   "source": [
    "--------------------------------------------------------------------------------------------------------------------------------\n",
    "#### Pipeline\n",
    "--------------------------------------------------------------------------------------------------------------------------------"
   ]
  },
  {
   "cell_type": "code",
   "execution_count": 20,
   "id": "80d7efc7",
   "metadata": {},
   "outputs": [],
   "source": [
    "#pipelines for each classifier\n",
    "svm_pipeline = Pipeline([\n",
    "    ('scaler', StandardScaler()),\n",
    "    ('svm', SVC())\n",
    "])\n",
    "\n",
    "gradient_boosting_pipeline = Pipeline([\n",
    "    ('scaler', StandardScaler()),\n",
    "    ('gb', GradientBoostingClassifier())\n",
    "])\n",
    "\n",
    "xgb_pipeline = Pipeline([\n",
    "    ('scaler', StandardScaler()),\n",
    "    ('xgb', XGBClassifier())\n",
    "])\n",
    "\n",
    "random_forest_pipeline = Pipeline([\n",
    "    ('scaler', StandardScaler()),\n",
    "    ('rf', RandomForestClassifier())\n",
    "])\n",
    "\n",
    "logistic_regression_pipeline = Pipeline([\n",
    "    ('scaler', StandardScaler()),\n",
    "    ('lr', LogisticRegression())\n",
    "])\n",
    "\n",
    "decision_tree_pipeline = Pipeline([\n",
    "    ('scaler', StandardScaler()),\n",
    "    ('dt', DecisionTreeClassifier())\n",
    "])\n",
    "\n",
    "gaussian_nb_pipeline = Pipeline([\n",
    "    ('scaler', StandardScaler()),\n",
    "    ('nb', GaussianNB())\n",
    "])\n",
    "\n",
    "adaboost_pipeline = Pipeline([\n",
    "    ('scaler', StandardScaler()),\n",
    "    ('adaboost', AdaBoostClassifier())\n",
    "])\n",
    "\n",
    "#Pipelines in a dictionary for easy access\n",
    "classifiers = {\n",
    "    'SVM': svm_pipeline,\n",
    "    'GradientBoosting': gradient_boosting_pipeline,\n",
    "    'XGBoost': xgb_pipeline,\n",
    "    'RandomForest': random_forest_pipeline,\n",
    "    'LogisticRegression': logistic_regression_pipeline,\n",
    "    'DecisionTree': decision_tree_pipeline,\n",
    "    'GaussianNB': gaussian_nb_pipeline,\n",
    "    'AdaBoost': adaboost_pipeline\n",
    "}"
   ]
  },
  {
   "cell_type": "code",
   "execution_count": 21,
   "id": "a3bf1c98",
   "metadata": {},
   "outputs": [],
   "source": [
    "#Parameter grids for each classifier\n",
    "svm_param_grid = {\n",
    "    'svm__C': [0.1, 1, 10],\n",
    "    'svm__kernel': ['linear', 'poly', 'rbf', 'sigmoid'],\n",
    "    'svm__gamma': ['scale', 'auto'],\n",
    "    'svm__degree': [2, 3, 4],\n",
    "    'svm__coef0': [0.0, 0.1, 1.0]\n",
    "}\n",
    "\n",
    "gradient_boosting_param_grid = {\n",
    "    'gb__n_estimators': [50, 100, 150],\n",
    "    'gb__learning_rate': [0.01, 0.1, 1.0],\n",
    "    'gb__max_depth': [3, 5, 7],\n",
    "    'gb__min_samples_split': [2, 5, 10],\n",
    "    'gb__min_samples_leaf': [1, 2, 4],\n",
    "    'gb__subsample': [0.8, 0.9, 1.0]\n",
    "}\n",
    "\n",
    "xgb_param_grid = {\n",
    "    'xgb__n_estimators': [50, 100, 150],\n",
    "    'xgb__learning_rate': [0.01, 0.1, 1.0],\n",
    "    'xgb__max_depth': [3, 5, 7],\n",
    "    'xgb__subsample': [0.8, 0.9, 1.0],\n",
    "    'xgb__colsample_bytree': [0.8, 0.9, 1.0],\n",
    "    'xgb__gamma': [0, 0.1, 1.0],\n",
    "    'xgb__reg_alpha': [0, 0.1, 1.0],\n",
    "    'xgb__reg_lambda': [0, 0.1, 1.0]\n",
    "}\n",
    "\n",
    "random_forest_param_grid = {\n",
    "    'rf__n_estimators': [50, 100, 150],\n",
    "    'rf__max_depth': [None, 5, 10],\n",
    "    'rf__min_samples_split': [2, 5, 10],\n",
    "    'rf__min_samples_leaf': [1, 2, 4],\n",
    "    'rf__max_features': ['auto', 'sqrt', 'log2']\n",
    "}\n",
    "\n",
    "logistic_regression_param_grid = {\n",
    "    'lr__C': [0.1, 1, 10],\n",
    "    'lr__penalty': ['l1', 'l2', 'elasticnet', 'none'],\n",
    "    'lr__solver': ['newton-cg', 'lbfgs', 'liblinear', 'sag', 'saga']\n",
    "}\n",
    "\n",
    "decision_tree_param_grid = {\n",
    "    'dt__max_depth': [None, 5, 10],\n",
    "    'dt__min_samples_split': [2, 5, 10],\n",
    "    'dt__min_samples_leaf': [1, 2, 4],\n",
    "    'dt__max_features': ['auto', 'sqrt', 'log2']\n",
    "}\n",
    "\n",
    "gaussian_nb_param_grid = {\n",
    "    'nb__var_smoothing': [1e-9, 1e-8, 1e-7]\n",
    "}\n",
    "\n",
    "adaboost_param_grid = {\n",
    "    'adaboost__n_estimators': [50, 100, 150],\n",
    "    'adaboost__learning_rate': [0.01, 0.1, 1.0],\n",
    "    'adaboost__algorithm': ['SAMME', 'SAMME.R']\n",
    "}\n",
    "# Define parameter grid dictionary\n",
    "param_grids = {\n",
    "    'SVM': svm_param_grid,\n",
    "    'GradientBoosting': gradient_boosting_param_grid,\n",
    "    'XGBoost': xgb_param_grid,\n",
    "    'RandomForest': random_forest_param_grid,\n",
    "    'LogisticRegression': logistic_regression_param_grid,\n",
    "    'DecisionTree': decision_tree_param_grid,\n",
    "    'GaussianNB': gaussian_nb_param_grid,\n",
    "    'AdaBoost': adaboost_param_grid\n",
    "}\n",
    "\n",
    "#Grid search with cross-validation for each pipeline\n",
    "best_models = {}\n",
    "#for classifier_name, pipeline in classifiers.items():\n",
    "#    print(f\"Tuning hyperparameters for {classifier_name}...\")\n",
    "#    grid_search = GridSearchCV(pipeline, param_grids[classifier_name], cv=5, n_jobs=-1)\n",
    "#    grid_search.fit(X_train, y_train)\n",
    "#    best_models[classifier_name] = grid_search.best_estimator_\n",
    "#    print(f\"Best hyperparameters for {classifier_name}: {grid_search.best_params_}\")\n",
    "#    print(f\"Best cross-validation score: {grid_search.best_score_}\")"
   ]
  },
  {
   "cell_type": "markdown",
   "id": "e6b792e9",
   "metadata": {},
   "source": [
    "Tuning hyperparameters for SVM...\n",
    "Best hyperparameters for SVM: {'svm__C': 0.1, 'svm__coef0': 1.0, 'svm__degree': 4, 'svm__gamma': 'scale', 'svm__kernel': 'poly'}\n",
    "Best cross-validation score: 0.5533333333333333\n",
    "\n",
    "Tuning hyperparameters for GradientBoosting...\n",
    "Best hyperparameters for GradientBoosting: {'gb__learning_rate': 0.1, 'gb__max_depth': 7, 'gb__min_samples_leaf': 1, 'gb__min_samples_split': 2, 'gb__n_estimators': 150, 'gb__subsample': 1.0}\n",
    "Best cross-validation score: 0.7133333333333335\n",
    "\n",
    "Tuning hyperparameters for XGBoost...\n",
    "Best hyperparameters for XGBoost: {'xgb__colsample_bytree': 0.8, 'xgb__gamma': 0, 'xgb__learning_rate': 1.0, 'xgb__max_depth': 5, 'xgb__n_estimators': 50, 'xgb__reg_alpha': 0, 'xgb__reg_lambda': 0.1, 'xgb__subsample': 0.8}\n",
    "Best cross-validation score: 0.7033333333333334\n",
    "Tuning hyperparameters for RandomForest...\n",
    "\n",
    "Best hyperparameters for RandomForest: {'rf__max_depth': None, 'rf__max_features': 'log2', 'rf__min_samples_leaf': 1, 'rf__min_samples_split': 10, 'rf__n_estimators': 50}\n",
    "Best cross-validation score: 0.6199999999999999\n",
    "Tuning hyperparameters for LogisticRegression...\n",
    "\n",
    "Best hyperparameters for LogisticRegression: {'lr__C': 0.1, 'lr__penalty': 'l1', 'lr__solver': 'liblinear'}\n",
    "Best cross-validation score: 0.5833333333333334\n",
    "Tuning hyperparameters for DecisionTree...\n",
    "\n",
    "Best hyperparameters for DecisionTree: {'dt__max_depth': 10, 'dt__max_features': 'sqrt', 'dt__min_samples_leaf': 2, 'dt__min_samples_split': 2}\n",
    "Best cross-validation score: 0.6133333333333334\n",
    "\n",
    "Tuning hyperparameters for GaussianNB...\n",
    "Best hyperparameters for GaussianNB: {'nb__var_smoothing': 1e-09}\n",
    "Best cross-validation score: 0.44000000000000006\n",
    "\n",
    "Tuning hyperparameters for AdaBoost...\n",
    "Best hyperparameters for AdaBoost: {'adaboost__algorithm': 'SAMME.R', 'adaboost__learning_rate': 0.1, 'adaboost__n_estimators': 150}\n",
    "Best cross-validation score: 0.5733333333333335"
   ]
  },
  {
   "cell_type": "markdown",
   "id": "316bac9f",
   "metadata": {},
   "source": [
    "##### I'm running only one time, it takes a loot of time, I saved the best parameters"
   ]
  },
  {
   "cell_type": "markdown",
   "id": "2d9b5897",
   "metadata": {},
   "source": [
    "--------------------------------------------------------------------------------------------------------------------------------\n",
    "### The models after the GridSearch\n",
    "--------------------------------------------------------------------------------------------------------------------------------"
   ]
  },
  {
   "cell_type": "markdown",
   "id": "b9e45fe0",
   "metadata": {},
   "source": [
    "--------------------------------------------------------------------------------------------------------------------------------\n",
    "### Svm \n",
    "--------------------------------------------------------------------------------------------------------------------------------"
   ]
  },
  {
   "cell_type": "code",
   "execution_count": 22,
   "id": "edcb627d",
   "metadata": {},
   "outputs": [
    {
     "name": "stdout",
     "output_type": "stream",
     "text": [
      "Accuracy: 0.45652173913043476\n",
      "              precision    recall  f1-score   support\n",
      "\n",
      "         0.0       0.50      0.06      0.11        50\n",
      "         1.0       0.45      0.93      0.61        42\n",
      "\n",
      "    accuracy                           0.46        92\n",
      "   macro avg       0.48      0.49      0.36        92\n",
      "weighted avg       0.48      0.46      0.34        92\n",
      "\n"
     ]
    },
    {
     "data": {
      "text/plain": [
       "<sklearn.metrics._plot.confusion_matrix.ConfusionMatrixDisplay at 0x1d4754c4f50>"
      ]
     },
     "execution_count": 22,
     "metadata": {},
     "output_type": "execute_result"
    },
    {
     "data": {
      "image/png": "[encoded data removed]",
      "text/plain": [
       "<Figure size 640x480 with 2 Axes>"
      ]
     },
     "metadata": {},
     "output_type": "display_data"
    }
   ],
   "source": [
    "svm_classifier_h = SVC(kernel='poly', C=0.1, coef0=1.0, degree=4, gamma='scale')\n",
    "\n",
    "\n",
    "svm_classifier_h.fit(X_train, y_train)\n",
    "\n",
    "# Predict\n",
    "y_pred = svm_classifier_h.predict(X_test)\n",
    "\n",
    "# Evaluate performance\n",
    "accuracy = accuracy_score(y_test, y_pred)\n",
    "print(\"Accuracy:\", accuracy)\n",
    "\n",
    "print(classification_report(y_test, y_pred))\n",
    "ConfusionMatrixDisplay.from_estimator(\n",
    "    svm_classifier_h, X_test, y_test, xticks_rotation=\"vertical\"\n",
    ")"
   ]
  },
  {
   "cell_type": "markdown",
   "id": "7a673522",
   "metadata": {},
   "source": [
    "--------------------------------------------------------------------------------------------------------------------------------\n",
    "### Gradient Boosting Classifier\n",
    "--------------------------------------------------------------------------------------------------------------------------------"
   ]
  },
  {
   "cell_type": "code",
   "execution_count": 23,
   "id": "a38c1358",
   "metadata": {},
   "outputs": [
    {
     "name": "stdout",
     "output_type": "stream",
     "text": [
      "Accuracy: 0.7934782608695652\n",
      "              precision    recall  f1-score   support\n",
      "\n",
      "         0.0       0.88      0.72      0.79        50\n",
      "         1.0       0.73      0.88      0.80        42\n",
      "\n",
      "    accuracy                           0.79        92\n",
      "   macro avg       0.80      0.80      0.79        92\n",
      "weighted avg       0.81      0.79      0.79        92\n",
      "\n"
     ]
    },
    {
     "data": {
      "text/plain": [
       "<sklearn.metrics._plot.confusion_matrix.ConfusionMatrixDisplay at 0x1d4767a5f50>"
      ]
     },
     "execution_count": 23,
     "metadata": {},
     "output_type": "execute_result"
    },
    {
     "data": {
      "image/png": "[encoded data removed]",
      "text/plain": [
       "<Figure size 640x480 with 2 Axes>"
      ]
     },
     "metadata": {},
     "output_type": "display_data"
    }
   ],
   "source": [
    "gbc_h = GradientBoostingClassifier(learning_rate=0.1, max_depth=7, min_samples_leaf=1,\n",
    "                                   min_samples_split=2, n_estimators=150, subsample=1.0)\n",
    "\n",
    "gbc_h.fit(X_train, y_train)\n",
    "\n",
    "# Predict\n",
    "y_pred = gbc_h.predict(X_test)\n",
    "\n",
    "# Evaluate performance\n",
    "accuracy = accuracy_score(y_test, y_pred)\n",
    "print(\"Accuracy:\", accuracy)\n",
    "\n",
    "print(classification_report(y_test, y_pred))\n",
    "\n",
    "ConfusionMatrixDisplay.from_estimator(\n",
    "    gbc_h, X_test, y_test, xticks_rotation=\"vertical\"\n",
    ")"
   ]
  },
  {
   "cell_type": "markdown",
   "id": "26d4bfb4",
   "metadata": {},
   "source": [
    "--------------------------------------------------------------------------------------------------------------------------------\n",
    "### XGB Classifier\n",
    "--------------------------------------------------------------------------------------------------------------------------------"
   ]
  },
  {
   "cell_type": "code",
   "execution_count": 24,
   "id": "1e863411",
   "metadata": {},
   "outputs": [
    {
     "name": "stdout",
     "output_type": "stream",
     "text": [
      "Accuracy: 0.7065217391304348\n",
      "              precision    recall  f1-score   support\n",
      "\n",
      "         0.0       0.79      0.62      0.70        50\n",
      "         1.0       0.64      0.81      0.72        42\n",
      "\n",
      "    accuracy                           0.71        92\n",
      "   macro avg       0.72      0.71      0.71        92\n",
      "weighted avg       0.72      0.71      0.71        92\n",
      "\n"
     ]
    },
    {
     "data": {
      "text/plain": [
       "<sklearn.metrics._plot.confusion_matrix.ConfusionMatrixDisplay at 0x1d47558e190>"
      ]
     },
     "execution_count": 24,
     "metadata": {},
     "output_type": "execute_result"
    },
    {
     "data": {
      "image/png": "[encoded data removed]",
      "text/plain": [
       "<Figure size 640x480 with 2 Axes>"
      ]
     },
     "metadata": {},
     "output_type": "display_data"
    }
   ],
   "source": [
    "xgb_h = XGBClassifier(colsample_bytree=0.8, gamma=0, learning_rate=1.0, max_depth=5, \n",
    "                      n_estimators=50, reg_alpha=0, reg_lambda=0.1, subsample=0.8)\n",
    "\n",
    "\n",
    "xgb_h.fit(X_train, y_train)\n",
    "\n",
    "# Predict\n",
    "y_pred = xgb_h.predict(X_test)\n",
    "\n",
    "# Evaluate performance\n",
    "accuracy = accuracy_score(y_test, y_pred)\n",
    "print(\"Accuracy:\", accuracy)\n",
    "\n",
    "print(classification_report(y_test, y_pred))\n",
    "\n",
    "ConfusionMatrixDisplay.from_estimator(\n",
    "    xgb_h, X_test, y_test, xticks_rotation=\"vertical\"\n",
    ")"
   ]
  },
  {
   "cell_type": "markdown",
   "id": "32d0d27f",
   "metadata": {},
   "source": [
    "--------------------------------------------------------------------------------------------------------------------------------\n",
    "### Random Forest\n",
    "--------------------------------------------------------------------------------------------------------------------------------"
   ]
  },
  {
   "cell_type": "code",
   "execution_count": 25,
   "id": "85d5bc28",
   "metadata": {},
   "outputs": [
    {
     "name": "stdout",
     "output_type": "stream",
     "text": [
      "Accuracy: 0.7065217391304348\n",
      "              precision    recall  f1-score   support\n",
      "\n",
      "         0.0       0.79      0.62      0.70        50\n",
      "         1.0       0.64      0.81      0.72        42\n",
      "\n",
      "    accuracy                           0.71        92\n",
      "   macro avg       0.72      0.71      0.71        92\n",
      "weighted avg       0.72      0.71      0.71        92\n",
      "\n"
     ]
    },
    {
     "data": {
      "text/plain": [
       "<sklearn.metrics._plot.confusion_matrix.ConfusionMatrixDisplay at 0x1d4766b8b10>"
      ]
     },
     "execution_count": 25,
     "metadata": {},
     "output_type": "execute_result"
    },
    {
     "data": {
      "image/png": "[encoded data removed]",
      "text/plain": [
       "<Figure size 640x480 with 2 Axes>"
      ]
     },
     "metadata": {},
     "output_type": "display_data"
    }
   ],
   "source": [
    "rfc_h = RandomForestClassifier(max_depth=None, max_features='log2', min_samples_leaf=1, \n",
    "                                min_samples_split=10, n_estimators=50)\n",
    "\n",
    "\n",
    "rfc_h.fit(X_train, y_train)\n",
    "\n",
    "# Predict\n",
    "y_pred = rfc_h.predict(X_test)\n",
    "\n",
    "# Evaluate performance\n",
    "accuracy = accuracy_score(y_test, y_pred)\n",
    "print(\"Accuracy:\", accuracy)\n",
    "\n",
    "print(classification_report(y_test, y_pred))\n",
    "\n",
    "ConfusionMatrixDisplay.from_estimator(\n",
    "    rfc_h, X_test, y_test, xticks_rotation=\"vertical\"\n",
    ")"
   ]
  },
  {
   "cell_type": "markdown",
   "id": "69233847",
   "metadata": {},
   "source": [
    "--------------------------------------------------------------------------------------------------------------------------------\n",
    "### Logistic Regression\n",
    "--------------------------------------------------------------------------------------------------------------------------------"
   ]
  },
  {
   "cell_type": "code",
   "execution_count": 26,
   "id": "99220085",
   "metadata": {},
   "outputs": [
    {
     "name": "stdout",
     "output_type": "stream",
     "text": [
      "Accuracy: 0.5869565217391305\n",
      "Classification Report:\n"
     ]
    },
    {
     "data": {
      "text/plain": [
       "<sklearn.metrics._plot.confusion_matrix.ConfusionMatrixDisplay at 0x1d476832c10>"
      ]
     },
     "execution_count": 26,
     "metadata": {},
     "output_type": "execute_result"
    },
    {
     "data": {
      "image/png": "[encoded data removed]",
      "text/plain": [
       "<Figure size 640x480 with 2 Axes>"
      ]
     },
     "metadata": {},
     "output_type": "display_data"
    }
   ],
   "source": [
    "log_reg_h = LogisticRegression(C=0.1, penalty='l1', solver='liblinear')\n",
    "\n",
    "\n",
    "# Train the model\n",
    "log_reg_h.fit(X_train, y_train)\n",
    "\n",
    "# Make predictions\n",
    "y_pred = log_reg_h.predict(X_test)\n",
    "\n",
    "# Evaluate the model\n",
    "accuracy = accuracy_score(y_test, y_pred)\n",
    "print(\"Accuracy:\", accuracy)\n",
    "\n",
    "\n",
    "print(\"Classification Report:\")\n",
    "\n",
    "ConfusionMatrixDisplay.from_estimator(\n",
    "    log_reg_h, X_test, y_test, xticks_rotation=\"vertical\"\n",
    ")"
   ]
  },
  {
   "cell_type": "markdown",
   "id": "d579544f",
   "metadata": {},
   "source": [
    "--------------------------------------------------------------------------------------------------------------------------------\n",
    "### Decision Tree\n",
    "--------------------------------------------------------------------------------------------------------------------------------"
   ]
  },
  {
   "cell_type": "code",
   "execution_count": 27,
   "id": "5d98e70d",
   "metadata": {},
   "outputs": [
    {
     "name": "stdout",
     "output_type": "stream",
     "text": [
      "Accuracy: 0.6413043478260869\n"
     ]
    },
    {
     "data": {
      "text/plain": [
       "<sklearn.metrics._plot.confusion_matrix.ConfusionMatrixDisplay at 0x1d4768ce310>"
      ]
     },
     "execution_count": 27,
     "metadata": {},
     "output_type": "execute_result"
    },
    {
     "data": {
      "image/png": "[encoded data removed]",
      "text/plain": [
       "<Figure size 640x480 with 2 Axes>"
      ]
     },
     "metadata": {},
     "output_type": "display_data"
    }
   ],
   "source": [
    "tree_clf_h = DecisionTreeClassifier(random_state=42, max_depth=10, max_features='sqrt',\n",
    "                                    min_samples_leaf=2, min_samples_split=2)\n",
    "\n",
    "\n",
    "# Train the classifier\n",
    "tree_clf_h.fit(X_train, y_train)\n",
    "\n",
    "# Make predictions\n",
    "y_pred = tree_clf_h.predict(X_test)\n",
    "\n",
    "# Evaluate the model\n",
    "accuracy = accuracy_score(y_test, y_pred)\n",
    "print(\"Accuracy:\", accuracy)\n",
    "\n",
    "ConfusionMatrixDisplay.from_estimator(\n",
    "    tree_clf_h, X_test, y_test, xticks_rotation=\"vertical\"\n",
    ")"
   ]
  },
  {
   "cell_type": "markdown",
   "id": "60b83596",
   "metadata": {},
   "source": [
    "--------------------------------------------------------------------------------------------------------------------------------\n",
    "### NB\n",
    "--------------------------------------------------------------------------------------------------------------------------------"
   ]
  },
  {
   "cell_type": "code",
   "execution_count": 28,
   "id": "a1716c9a",
   "metadata": {},
   "outputs": [
    {
     "name": "stdout",
     "output_type": "stream",
     "text": [
      "Accuracy: 0.5434782608695652\n"
     ]
    },
    {
     "data": {
      "text/plain": [
       "<sklearn.metrics._plot.confusion_matrix.ConfusionMatrixDisplay at 0x1d4768a04d0>"
      ]
     },
     "execution_count": 28,
     "metadata": {},
     "output_type": "execute_result"
    },
    {
     "data": {
      "image/png": "[encoded data removed]",
      "text/plain": [
       "<Figure size 640x480 with 2 Axes>"
      ]
     },
     "metadata": {},
     "output_type": "display_data"
    }
   ],
   "source": [
    "nb_clf_h = GaussianNB(var_smoothing = 1e-09)\n",
    "\n",
    "# Train\n",
    "nb_clf_h.fit(X_train, y_train)\n",
    "\n",
    "# Make predictions\n",
    "y_pred = nb_clf_h.predict(X_test)\n",
    "\n",
    "# Evaluate the model\n",
    "accuracy = accuracy_score(y_test, y_pred)\n",
    "print(\"Accuracy:\", accuracy)\n",
    "\n",
    "ConfusionMatrixDisplay.from_estimator(\n",
    "    nb_clf_h, X_test, y_test, xticks_rotation=\"vertical\"\n",
    ")"
   ]
  },
  {
   "cell_type": "markdown",
   "id": "35aad06c",
   "metadata": {},
   "source": [
    "--------------------------------------------------------------------------------------------------------------------------------\n",
    "### Ada boost\n",
    "--------------------------------------------------------------------------------------------------------------------------------"
   ]
  },
  {
   "cell_type": "code",
   "execution_count": 29,
   "id": "e699cfb6",
   "metadata": {},
   "outputs": [
    {
     "name": "stdout",
     "output_type": "stream",
     "text": [
      "Accuracy: 0.5108695652173914\n"
     ]
    },
    {
     "data": {
      "text/plain": [
       "<sklearn.metrics._plot.confusion_matrix.ConfusionMatrixDisplay at 0x1d476671750>"
      ]
     },
     "execution_count": 29,
     "metadata": {},
     "output_type": "execute_result"
    },
    {
     "data": {
      "image/png": "[encoded data removed]",
      "text/plain": [
       "<Figure size 640x480 with 2 Axes>"
      ]
     },
     "metadata": {},
     "output_type": "display_data"
    }
   ],
   "source": [
    "adaboost_clf_h = AdaBoostClassifier(n_estimators=50, random_state=42, algorithm = 'SAMME.R', learning_rate = 0.1)\n",
    "\n",
    "# Train\n",
    "adaboost_clf_h.fit(X_train, y_train)\n",
    "\n",
    "# Make predictions \n",
    "y_pred = adaboost_clf_h.predict(X_test)\n",
    "\n",
    "# Calculate accuracy\n",
    "accuracy = accuracy_score(y_test, y_pred)\n",
    "print(\"Accuracy:\", accuracy)\n",
    "\n",
    "ConfusionMatrixDisplay.from_estimator(\n",
    "    adaboost_clf_h, X_test, y_test, xticks_rotation=\"vertical\"\n",
    ")"
   ]
  },
  {
   "cell_type": "markdown",
   "id": "0d554e76",
   "metadata": {},
   "source": [
    "#### Like I can see the best model is Gradient Boosting Classifier with Accuracy: 0.7934782608695652 after finding the best parameters."
   ]
  },
  {
   "cell_type": "markdown",
   "id": "fc6e0614",
   "metadata": {},
   "source": [
    "--------------------------------------------------------------------------------------------------------------------------------\n",
    "# Deep Learning\n",
    "--------------------------------------------------------------------------------------------------------------------------------"
   ]
  },
  {
   "cell_type": "code",
   "execution_count": 30,
   "id": "09904621",
   "metadata": {},
   "outputs": [],
   "source": [
    "# load mat file\n",
    "Xva = sp.io.loadmat(\"Xva.mat\")\n",
    "Xa = sp.io.loadmat(\"Xa.mat\")\n",
    "Rva_dl = Xva['Xva']\n",
    "Ra_dl = Xa['Xa']"
   ]
  },
  {
   "cell_type": "code",
   "execution_count": 31,
   "id": "c3834776",
   "metadata": {},
   "outputs": [
    {
     "data": {
      "text/plain": [
       "<matplotlib.legend.Legend at 0x1d476a1bc50>"
      ]
     },
     "execution_count": 31,
     "metadata": {},
     "output_type": "execute_result"
    },
    {
     "data": {
      "image/png": "[encoded data removed]",
      "text/plain": [
       "<Figure size 640x480 with 1 Axes>"
      ]
     },
     "metadata": {},
     "output_type": "display_data"
    }
   ],
   "source": [
    "plt.figure()\n",
    "plt.plot(Rva_dl[0,:,0])\n",
    "plt.plot(Ra_dl[0,:,0])\n",
    "plt.legend(['Xva','Xa'],loc='upper right')"
   ]
  },
  {
   "cell_type": "code",
   "execution_count": 32,
   "id": "b883e707",
   "metadata": {},
   "outputs": [],
   "source": [
    "# Reshape the matrices to match the input shape of the neural network\n",
    "Rva_dl = Rva_dl[6:12, :, :]\n",
    "Ra_dl = Ra_dl[6:12, :, :]"
   ]
  },
  {
   "cell_type": "code",
   "execution_count": 33,
   "id": "a44d06ff",
   "metadata": {},
   "outputs": [
    {
     "data": {
      "text/plain": [
       "(6, 15000, 75)"
      ]
     },
     "execution_count": 33,
     "metadata": {},
     "output_type": "execute_result"
    }
   ],
   "source": [
    "Rva_dl.shape"
   ]
  },
  {
   "cell_type": "code",
   "execution_count": 34,
   "id": "613f2ebc",
   "metadata": {},
   "outputs": [
    {
     "name": "stdout",
     "output_type": "stream",
     "text": [
      "Epoch 1/15\n",
      "4/4 [==============================] - 2s 201ms/step - loss: 0.0058 - val_loss: 0.0050\n",
      "Epoch 2/15\n",
      "4/4 [==============================] - 0s 105ms/step - loss: 0.0056 - val_loss: 0.0049\n",
      "Epoch 3/15\n",
      "4/4 [==============================] - 0s 95ms/step - loss: 0.0055 - val_loss: 0.0049\n",
      "Epoch 4/15\n",
      "4/4 [==============================] - 0s 76ms/step - loss: 0.0055 - val_loss: 0.0049\n",
      "Epoch 5/15\n",
      "4/4 [==============================] - 0s 77ms/step - loss: 0.0054 - val_loss: 0.0049\n",
      "Epoch 6/15\n",
      "4/4 [==============================] - 0s 68ms/step - loss: 0.0054 - val_loss: 0.0049\n",
      "Epoch 7/15\n",
      "4/4 [==============================] - 0s 68ms/step - loss: 0.0054 - val_loss: 0.0049\n",
      "Epoch 8/15\n",
      "4/4 [==============================] - 0s 73ms/step - loss: 0.0054 - val_loss: 0.0049\n",
      "Epoch 9/15\n",
      "4/4 [==============================] - 0s 68ms/step - loss: 0.0054 - val_loss: 0.0049\n",
      "Epoch 10/15\n",
      "4/4 [==============================] - 0s 67ms/step - loss: 0.0054 - val_loss: 0.0048\n",
      "Epoch 11/15\n",
      "4/4 [==============================] - 0s 70ms/step - loss: 0.0054 - val_loss: 0.0048\n",
      "Epoch 12/15\n",
      "4/4 [==============================] - 0s 70ms/step - loss: 0.0054 - val_loss: 0.0048\n",
      "Epoch 13/15\n",
      "4/4 [==============================] - 0s 72ms/step - loss: 0.0054 - val_loss: 0.0048\n",
      "Epoch 14/15\n",
      "4/4 [==============================] - 0s 72ms/step - loss: 0.0054 - val_loss: 0.0048\n",
      "Epoch 15/15\n",
      "4/4 [==============================] - 0s 71ms/step - loss: 0.0054 - val_loss: 0.0048\n",
      "3/3 [==============================] - 0s 12ms/step - loss: 0.0048\n",
      "3/3 [==============================] - 0s 10ms/step\n",
      "Test Loss: 0.004780279006808996\n"
     ]
    }
   ],
   "source": [
    "# Reshape the matrices to match the input shape of the neural network\n",
    "Rva_input = Rva_dl.transpose((1, 0, 2)).reshape((15000, 6 * 75)).T\n",
    "Ra_output = Ra_dl.transpose((2, 0, 1)).reshape((15000, 6 * 75)).T\n",
    "\n",
    "# Split the data into train, validation, and test sets\n",
    "X_train, X_test, y_train, y_test = train_test_split(Rva_input, Ra_output, test_size=0.2, random_state=42)\n",
    "X_train, X_val, y_train, y_val = train_test_split(X_train, y_train, test_size=0.5, random_state=42)\n",
    "\n",
    "#neural network model\n",
    "model = Sequential()\n",
    "model.add(Dense(128, activation='relu', input_shape=(15000,)))\n",
    "model.add(Dense(64, activation='relu'))\n",
    "model.add(Dense(32, activation='relu'))\n",
    "model.add(Dense(15000, activation='linear'))  # Output layer with linear activation\n",
    "\n",
    "# Compile the model\n",
    "model.compile(optimizer=Adam(learning_rate=0.1), loss='mean_squared_error')\n",
    "model.fit(X_train, y_train, epochs=15, batch_size=45, validation_data=(X_val, y_val))\n",
    "\n",
    "# Evaluate the model on the test set\n",
    "loss = model.evaluate(X_test, y_test)\n",
    "\n",
    "# Trained model to predict Ra from Rva for new data\n",
    "predicted_Ra = model.predict(X_test)\n",
    "print(f'Test Loss: {loss}')"
   ]
  },
  {
   "cell_type": "markdown",
   "id": "5c0942bc",
   "metadata": {},
   "source": [
    "Like I can see the loss is very low, the model is performing well"
   ]
  },
  {
   "cell_type": "code",
   "execution_count": 35,
   "id": "4291258f",
   "metadata": {},
   "outputs": [
    {
     "data": {
      "image/png": "[encoded data removed]",
      "text/plain": [
       "<Figure size 1200x600 with 1 Axes>"
      ]
     },
     "metadata": {},
     "output_type": "display_data"
    }
   ],
   "source": [
    "difference = abs(y_test - predicted_Ra)\n",
    "\n",
    "plt.figure(figsize=(12, 6))\n",
    "for patient_index in range(90):\n",
    "    plt.plot(difference[patient_index, :])\n",
    "plt.title('Difference between Ground Truth Ra and Predicted Ra for all patients')\n",
    "plt.xlabel('Sample Index')\n",
    "plt.ylabel('Absolute Difference')\n",
    "plt.show()"
   ]
  },
  {
   "cell_type": "code",
   "execution_count": 38,
   "id": "60b73242",
   "metadata": {},
   "outputs": [
    {
     "name": "stdout",
     "output_type": "stream",
     "text": [
      "Root Mean Squared Error (RMSE): 0.06913956347897152\n"
     ]
    }
   ],
   "source": [
    "from sklearn.metrics import mean_squared_error\n",
    "\n",
    "# Calculate RMSE\n",
    "rmse = np.sqrt(mean_squared_error(y_test, predicted_Ra))\n",
    "print('Root Mean Squared Error (RMSE):', rmse)"
   ]
  },
  {
   "cell_type": "markdown",
   "id": "f89a4770",
   "metadata": {},
   "source": [
    "The RMSE is low, that's mean that on average, model's predictions are closer to the actual values."
   ]
  }
 ],
 "metadata": {
  "hide_input": false,
  "kernelspec": {
   "display_name": "Python 3 (ipykernel)",
   "language": "python",
   "name": "python3"
  },
  "language_info": {
   "codemirror_mode": {
    "name": "ipython",
    "version": 3
   },
   "file_extension": ".py",
   "mimetype": "text/x-python",
   "name": "python",
   "nbconvert_exporter": "python",
   "pygments_lexer": "ipython3",
   "version": "3.11.4"
  },
  "toc": {
   "base_numbering": 1,
   "nav_menu": {},
   "number_sections": true,
   "sideBar": true,
   "skip_h1_title": false,
   "title_cell": "Table of Contents",
   "title_sidebar": "Contents",
   "toc_cell": false,
   "toc_position": {
    "height": "611.111px",
    "left": "258px",
    "top": "90.5295px",
    "width": "251.311px"
   },
   "toc_section_display": true,
   "toc_window_display": true
  }
 },
 "nbformat": 4,
 "nbformat_minor": 5
}
